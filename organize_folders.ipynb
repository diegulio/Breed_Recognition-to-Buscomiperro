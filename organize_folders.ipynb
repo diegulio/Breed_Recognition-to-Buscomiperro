{
 "cells": [
  {
   "cell_type": "code",
   "execution_count": 23,
   "id": "0774f6e3",
   "metadata": {},
   "outputs": [],
   "source": [
    "import os\n",
    "import pandas as pd\n",
    "import numpy as np\n",
    "import shutil"
   ]
  },
  {
   "cell_type": "code",
   "execution_count": 5,
   "id": "3a89a860",
   "metadata": {},
   "outputs": [
    {
     "data": {
      "text/html": [
       "<div>\n",
       "<style scoped>\n",
       "    .dataframe tbody tr th:only-of-type {\n",
       "        vertical-align: middle;\n",
       "    }\n",
       "\n",
       "    .dataframe tbody tr th {\n",
       "        vertical-align: top;\n",
       "    }\n",
       "\n",
       "    .dataframe thead th {\n",
       "        text-align: right;\n",
       "    }\n",
       "</style>\n",
       "<table border=\"1\" class=\"dataframe\">\n",
       "  <thead>\n",
       "    <tr style=\"text-align: right;\">\n",
       "      <th></th>\n",
       "      <th>id</th>\n",
       "      <th>breed</th>\n",
       "    </tr>\n",
       "  </thead>\n",
       "  <tbody>\n",
       "    <tr>\n",
       "      <th>0</th>\n",
       "      <td>000bec180eb18c7604dcecc8fe0dba07</td>\n",
       "      <td>boston_bull</td>\n",
       "    </tr>\n",
       "    <tr>\n",
       "      <th>1</th>\n",
       "      <td>001513dfcb2ffafc82cccf4d8bbaba97</td>\n",
       "      <td>dingo</td>\n",
       "    </tr>\n",
       "    <tr>\n",
       "      <th>2</th>\n",
       "      <td>001cdf01b096e06d78e9e5112d419397</td>\n",
       "      <td>pekinese</td>\n",
       "    </tr>\n",
       "    <tr>\n",
       "      <th>3</th>\n",
       "      <td>00214f311d5d2247d5dfe4fe24b2303d</td>\n",
       "      <td>bluetick</td>\n",
       "    </tr>\n",
       "    <tr>\n",
       "      <th>4</th>\n",
       "      <td>0021f9ceb3235effd7fcde7f7538ed62</td>\n",
       "      <td>golden_retriever</td>\n",
       "    </tr>\n",
       "    <tr>\n",
       "      <th>...</th>\n",
       "      <td>...</td>\n",
       "      <td>...</td>\n",
       "    </tr>\n",
       "    <tr>\n",
       "      <th>10412</th>\n",
       "      <td>o6</td>\n",
       "      <td>No detectado</td>\n",
       "    </tr>\n",
       "    <tr>\n",
       "      <th>10413</th>\n",
       "      <td>o7</td>\n",
       "      <td>No detectado</td>\n",
       "    </tr>\n",
       "    <tr>\n",
       "      <th>10414</th>\n",
       "      <td>o8</td>\n",
       "      <td>No detectado</td>\n",
       "    </tr>\n",
       "    <tr>\n",
       "      <th>10415</th>\n",
       "      <td>o9</td>\n",
       "      <td>No detectado</td>\n",
       "    </tr>\n",
       "    <tr>\n",
       "      <th>10416</th>\n",
       "      <td>o10</td>\n",
       "      <td>No detectado</td>\n",
       "    </tr>\n",
       "  </tbody>\n",
       "</table>\n",
       "<p>10417 rows × 2 columns</p>\n",
       "</div>"
      ],
      "text/plain": [
       "                                     id             breed\n",
       "0      000bec180eb18c7604dcecc8fe0dba07       boston_bull\n",
       "1      001513dfcb2ffafc82cccf4d8bbaba97             dingo\n",
       "2      001cdf01b096e06d78e9e5112d419397          pekinese\n",
       "3      00214f311d5d2247d5dfe4fe24b2303d          bluetick\n",
       "4      0021f9ceb3235effd7fcde7f7538ed62  golden_retriever\n",
       "...                                 ...               ...\n",
       "10412                                o6      No detectado\n",
       "10413                                o7      No detectado\n",
       "10414                                o8      No detectado\n",
       "10415                                o9      No detectado\n",
       "10416                               o10      No detectado\n",
       "\n",
       "[10417 rows x 2 columns]"
      ]
     },
     "execution_count": 5,
     "metadata": {},
     "output_type": "execute_result"
    }
   ],
   "source": [
    "labels = pd.read_csv('labels.csv')\n",
    "labels"
   ]
  },
  {
   "cell_type": "markdown",
   "id": "968cb29f",
   "metadata": {},
   "source": [
    "## Train Test split"
   ]
  },
  {
   "cell_type": "code",
   "execution_count": 7,
   "id": "7bb23e03",
   "metadata": {},
   "outputs": [],
   "source": [
    "from sklearn.model_selection import train_test_split\n",
    "X_train, X_test, y_train, y_test = train_test_split(labels['id'], labels['breed'], test_size=0.2, random_state=13)"
   ]
  },
  {
   "cell_type": "code",
   "execution_count": 15,
   "id": "eafa872d",
   "metadata": {},
   "outputs": [
    {
     "name": "stdout",
     "output_type": "stream",
     "text": [
      "Se utilizarán 8333 datos de entrenamiento\n",
      "Se utilizarán 2084 datos de prueba\n"
     ]
    }
   ],
   "source": [
    "print('Se utilizarán %i datos de entrenamiento'%len(X_train))\n",
    "print('Se utilizarán %i datos de prueba'%len(X_test))"
   ]
  },
  {
   "cell_type": "code",
   "execution_count": 28,
   "id": "e6f16766",
   "metadata": {},
   "outputs": [],
   "source": [
    "df_train = pd.concat([X_train, y_train], axis = 1)\n",
    "df_test = pd.concat([X_test, y_test], axis = 1)"
   ]
  },
  {
   "cell_type": "markdown",
   "id": "e6dd796e",
   "metadata": {},
   "source": [
    "## Organizacion de carpetas"
   ]
  },
  {
   "cell_type": "code",
   "execution_count": 49,
   "id": "65381086",
   "metadata": {},
   "outputs": [],
   "source": [
    "train_path = 'train/'\n",
    "test_path = 'test/'\n",
    "original_path = 'features_resized/'"
   ]
  },
  {
   "cell_type": "code",
   "execution_count": 61,
   "id": "f4920ac5",
   "metadata": {},
   "outputs": [],
   "source": [
    "def copy_img(row, original, new):\n",
    "    \"\"\"\n",
    "    Funcion que copia la imagen desde el path original hacia el new, el nombre de\n",
    "    la imagen y su clase se deben encontrar en la fila de el dataset. Esta funcion\n",
    "    esta hecha para ser usada en la funcion de pandas 'apply'.\n",
    "    \"\"\"\n",
    "    new_path = new + row.iloc[1] + '/' + row.iloc[0] + '.jpg'\n",
    "    original_path = original + row.iloc[0] + '.jpg'\n",
    "    shutil.copy(original_path, new_path)\n",
    "    "
   ]
  },
  {
   "cell_type": "code",
   "execution_count": 62,
   "id": "7d4505f5",
   "metadata": {},
   "outputs": [],
   "source": [
    "def organize_folders(df, new_path, original_path):\n",
    "    \"\"\"\n",
    "    Funcion que organiza las carpetas e imagenes como Image Data Generator lo requiere,\n",
    "    en resumen, dentro de la carpeta new_path crea carpetas de cada clase, y dentro le agrega\n",
    "    las imagenes que corresponden a esta clase. Original path es la carpeta donde se encuentran las imagenes surtidas.\n",
    "    \n",
    "    df = dataframe donde se encuentran los nombres de las imagenes y su respectiva clase, EN ESE ORDEN.\n",
    "    new_path = carpeta donde se crearán las nuevas carpetas de clases con sus respectivas imagenes\n",
    "    original_path = carpeta donde se encuentran todas las imagenes surtidas\n",
    "    \n",
    "    \"\"\"\n",
    "    \n",
    "    classes = df.iloc[:,1].unique().tolist()\n",
    "    for class_ in classes:\n",
    "        # se crea la carpeta de la clase\n",
    "        path_class = new_path + class_\n",
    "        os.makedirs(path_class)\n",
    "        df_class = df[df.iloc[:,1] == class_]\n",
    "        df_class.apply(copy_img, args = (original_path,new_path),axis = 1)\n",
    "        \n",
    "    return None\n",
    "    "
   ]
  },
  {
   "cell_type": "code",
   "execution_count": 63,
   "id": "047ad502",
   "metadata": {},
   "outputs": [],
   "source": [
    "# Train folder\n",
    "organize_folders(df_train, train_path, original_path)"
   ]
  },
  {
   "cell_type": "code",
   "execution_count": 64,
   "id": "4c0a020a",
   "metadata": {},
   "outputs": [],
   "source": [
    "# Test folder\n",
    "organize_folders(df_test, test_path, original_path)"
   ]
  },
  {
   "cell_type": "code",
   "execution_count": 60,
   "id": "2fde54d2",
   "metadata": {},
   "outputs": [
    {
     "data": {
      "text/html": [
       "<div>\n",
       "<style scoped>\n",
       "    .dataframe tbody tr th:only-of-type {\n",
       "        vertical-align: middle;\n",
       "    }\n",
       "\n",
       "    .dataframe tbody tr th {\n",
       "        vertical-align: top;\n",
       "    }\n",
       "\n",
       "    .dataframe thead th {\n",
       "        text-align: right;\n",
       "    }\n",
       "</style>\n",
       "<table border=\"1\" class=\"dataframe\">\n",
       "  <thead>\n",
       "    <tr style=\"text-align: right;\">\n",
       "      <th></th>\n",
       "      <th>id</th>\n",
       "      <th>breed</th>\n",
       "    </tr>\n",
       "  </thead>\n",
       "  <tbody>\n",
       "    <tr>\n",
       "      <th>3593</th>\n",
       "      <td>595222dc2b2a5c31cf281f2491e168ae</td>\n",
       "      <td>rottweiler</td>\n",
       "    </tr>\n",
       "    <tr>\n",
       "      <th>5925</th>\n",
       "      <td>95b04ef45b853922685ba6d257fc2f0c</td>\n",
       "      <td>japanese_spaniel</td>\n",
       "    </tr>\n",
       "    <tr>\n",
       "      <th>10366</th>\n",
       "      <td>ca5</td>\n",
       "      <td>No detectado</td>\n",
       "    </tr>\n",
       "    <tr>\n",
       "      <th>10298</th>\n",
       "      <td>cat.3267</td>\n",
       "      <td>gato</td>\n",
       "    </tr>\n",
       "    <tr>\n",
       "      <th>8973</th>\n",
       "      <td>e146cabda18bbb2cb402dece1a7dd4ef</td>\n",
       "      <td>bernese_mountain_dog</td>\n",
       "    </tr>\n",
       "    <tr>\n",
       "      <th>...</th>\n",
       "      <td>...</td>\n",
       "      <td>...</td>\n",
       "    </tr>\n",
       "    <tr>\n",
       "      <th>7393</th>\n",
       "      <td>b905b9008e830033dedadbda5102f409</td>\n",
       "      <td>cocker_spaniel</td>\n",
       "    </tr>\n",
       "    <tr>\n",
       "      <th>3514</th>\n",
       "      <td>578fed8e31c96406eaa447ae3ff604ba</td>\n",
       "      <td>dingo</td>\n",
       "    </tr>\n",
       "    <tr>\n",
       "      <th>9223</th>\n",
       "      <td>e7ab74acdc860dfb93271901da085ffd</td>\n",
       "      <td>gordon_setter</td>\n",
       "    </tr>\n",
       "    <tr>\n",
       "      <th>6599</th>\n",
       "      <td>a5e12305354299b560665bffbd811f8d</td>\n",
       "      <td>scottish_deerhound</td>\n",
       "    </tr>\n",
       "    <tr>\n",
       "      <th>10269</th>\n",
       "      <td>cat.2384</td>\n",
       "      <td>gato</td>\n",
       "    </tr>\n",
       "  </tbody>\n",
       "</table>\n",
       "<p>2084 rows × 2 columns</p>\n",
       "</div>"
      ],
      "text/plain": [
       "                                     id                 breed\n",
       "3593   595222dc2b2a5c31cf281f2491e168ae            rottweiler\n",
       "5925   95b04ef45b853922685ba6d257fc2f0c      japanese_spaniel\n",
       "10366                               ca5          No detectado\n",
       "10298                          cat.3267                  gato\n",
       "8973   e146cabda18bbb2cb402dece1a7dd4ef  bernese_mountain_dog\n",
       "...                                 ...                   ...\n",
       "7393   b905b9008e830033dedadbda5102f409        cocker_spaniel\n",
       "3514   578fed8e31c96406eaa447ae3ff604ba                 dingo\n",
       "9223   e7ab74acdc860dfb93271901da085ffd         gordon_setter\n",
       "6599   a5e12305354299b560665bffbd811f8d    scottish_deerhound\n",
       "10269                          cat.2384                  gato\n",
       "\n",
       "[2084 rows x 2 columns]"
      ]
     },
     "execution_count": 60,
     "metadata": {},
     "output_type": "execute_result"
    }
   ],
   "source": []
  },
  {
   "cell_type": "code",
   "execution_count": null,
   "id": "4a0aab33",
   "metadata": {},
   "outputs": [],
   "source": []
  }
 ],
 "metadata": {
  "kernelspec": {
   "display_name": "Python 3",
   "language": "python",
   "name": "python3"
  },
  "language_info": {
   "codemirror_mode": {
    "name": "ipython",
    "version": 3
   },
   "file_extension": ".py",
   "mimetype": "text/x-python",
   "name": "python",
   "nbconvert_exporter": "python",
   "pygments_lexer": "ipython3",
   "version": "3.8.5"
  }
 },
 "nbformat": 4,
 "nbformat_minor": 5
}
