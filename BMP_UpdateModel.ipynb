{
  "nbformat": 4,
  "nbformat_minor": 0,
  "metadata": {
    "colab": {
      "name": "BMP_UpdateModel.ipynb",
      "provenance": [],
      "collapsed_sections": [
        "WhQTkALLlwX_",
        "zbdV1UB4jzEO",
        "hHMO2-WPdQMW",
        "3EBD0zVwG-IA",
        "n_gXexuhteOc",
        "4hYxF3_gGeZZ",
        "z7NDc2ntQrcZ",
        "r62l4pOSTiiW",
        "uuXAMaBYOB9G",
        "toZ3teCRKEl8"
      ],
      "toc_visible": true,
      "mount_file_id": "1JprKKJgzgMCCKQyCt4r0h3qH53RaJ4c0",
      "authorship_tag": "ABX9TyMN8h8h/v6bBuD0vJuKfq2U",
      "include_colab_link": true
    },
    "kernelspec": {
      "name": "python3",
      "display_name": "Python 3"
    },
    "language_info": {
      "name": "python"
    },
    "accelerator": "GPU"
  },
  "cells": [
    {
      "cell_type": "markdown",
      "metadata": {
        "id": "view-in-github",
        "colab_type": "text"
      },
      "source": [
        "<a href=\"https://colab.research.google.com/github/diegulio/Breed_Recognition-to-Buscomiperro/blob/main/BMP_UpdateModel.ipynb\" target=\"_parent\"><img src=\"https://colab.research.google.com/assets/colab-badge.svg\" alt=\"Open In Colab\"/></a>"
      ]
    },
    {
      "cell_type": "markdown",
      "metadata": {
        "id": "Hz5UZ11WKrua"
      },
      "source": [
        "# Updates \n",
        "Hasta el momento, ya tenemos un modelo con metricas decentes, el cual demostró tener buenos resultados, aún así, antes de pasar el modelo a producción y desplegarlo en alguna web, quiero agregar algunas razas (clases) comunes en Chile y además aprovechar de poner en práctica algunas nuevas prácticas (valga la redundancia) que he aprendido, aparte de intentar mejorar con una nueva arquitectura las métricas obtenidas hasta el momento. Sin más preambulo, lo que haremos será:\n",
        "\n",
        "\n",
        "\n",
        "1.   Agregar razas nuevas: `Dalmata-Akita-Bulldog Inglés` \n",
        "2.   Probar nuevos modelos pre entrenados [State of the Art](https://paperswithcode.com/task/image-classification) en [keras](https://keras.io/api/applications/) (Elegir los mejores 3) `feature extraction`, de acá se obtiene: `modelo_1, modelo_2 y modelo_3` \n",
        "3.   Fine-tuning modelos 1,2 y 3 `modelo_4, modelo_5 y modelo_6`\n",
        "4.   Hacer un ensemble de los modelos pre entrenados escogidos `modelo_7` \n",
        "5.   Añadir en el Top una red neuronal luego del ensemble `modelo_8`\n",
        "6.   Agregar Data Augmentation en el mejor modelo (Data Augmentation dentro del modelo) `modelo_9`\n",
        "\n",
        "\n",
        "\n",
        "Recordar: Utilizar nuevos callbacks aprendidos\n",
        "\n",
        "\n"
      ]
    },
    {
      "cell_type": "markdown",
      "metadata": {
        "id": "3Xmzcr0TjNqz"
      },
      "source": [
        "# Librerias"
      ]
    },
    {
      "cell_type": "code",
      "metadata": {
        "id": "mKA6_XZ2LNt3"
      },
      "source": [
        "import pandas as pd\n",
        "import numpy as np\n",
        "import matplotlib.pyplot as plt\n",
        "\n",
        "\n",
        "import tensorflow as tf\n",
        "import tensorflow_hub as hub\n",
        "from tensorflow.keras import layers \n",
        "from tensorflow.keras.layers.experimental import preprocessing"
      ],
      "execution_count": null,
      "outputs": []
    },
    {
      "cell_type": "markdown",
      "metadata": {
        "id": "BX8ykJqOR8LD"
      },
      "source": [
        "# Helper Functions"
      ]
    },
    {
      "cell_type": "code",
      "metadata": {
        "id": "8Sy7kYVeR937"
      },
      "source": [
        "# Plot the validation and training data separately\n",
        "def plot_loss_curves(history):\n",
        "  \"\"\"\n",
        "  Returns separate loss curves for training and validation metrics.\n",
        "  \"\"\" \n",
        "  loss = history.history['loss']\n",
        "  val_loss = history.history['val_loss']\n",
        "\n",
        "  accuracy = history.history['accuracy']\n",
        "  val_accuracy = history.history['val_accuracy']\n",
        "\n",
        "  epochs = range(len(history.history['loss']))\n",
        "\n",
        "  # Plot loss\n",
        "  plt.plot(epochs, loss, label='training_loss')\n",
        "  plt.plot(epochs, val_loss, label='val_loss')\n",
        "  plt.title('Loss')\n",
        "  plt.xlabel('Epochs')\n",
        "  plt.legend()\n",
        "\n",
        "  # Plot accuracy\n",
        "  plt.figure()\n",
        "  plt.plot(epochs, accuracy, label='training_accuracy')\n",
        "  plt.plot(epochs, val_accuracy, label='val_accuracy')\n",
        "  plt.title('Accuracy')\n",
        "  plt.xlabel('Epochs')\n",
        "  plt.legend();\n",
        "  \n",
        "\n",
        "\n",
        "# Convierte una carpeta en formato zip, esto para que pueda ser descargada en google colab\n",
        "def zip_folder(folder_dir):\n",
        "  import shutil\n",
        "  shutil.make_archive(folder_dir, 'zip', folder_dir)"
      ],
      "execution_count": null,
      "outputs": []
    },
    {
      "cell_type": "markdown",
      "metadata": {
        "id": "3QfySuSJkHWB"
      },
      "source": [
        "# Callbacks"
      ]
    },
    {
      "cell_type": "code",
      "metadata": {
        "id": "a8VaRsRzkKqt"
      },
      "source": [
        "import datetime\n",
        "import os\n",
        "\n",
        "def create_tensorboard_callback(dir_name, experiment_name):\n",
        "  # Si no esta el directorio dir_name creado, lo creamos\n",
        "  if dir_name not in os.listdir():\n",
        "    os.mkdir(dir_name)\n",
        "\n",
        "  log_dir = dir_name + \"/\" + experiment_name + \"/\" + datetime.datetime.now().strftime(\"%Y%m%d-%H%M%S\")\n",
        "  tensorboard_callback = tf.keras.callbacks.TensorBoard(\n",
        "      log_dir=log_dir\n",
        "  )\n",
        "  print(f\"Saving TensorBoard log files to: {log_dir}\")\n",
        "  return tensorboard_callback"
      ],
      "execution_count": null,
      "outputs": []
    },
    {
      "cell_type": "code",
      "metadata": {
        "id": "z_4_2fY5lvpO"
      },
      "source": [
        ""
      ],
      "execution_count": null,
      "outputs": []
    },
    {
      "cell_type": "markdown",
      "metadata": {
        "id": "lbge3OdjwdJm"
      },
      "source": [
        "# Data Directories"
      ]
    },
    {
      "cell_type": "code",
      "metadata": {
        "id": "kVGAV_rm5zcO"
      },
      "source": [
        "model_image_size_map = {\n",
        "  \"efficientnet_b0\": 224,\n",
        "  \"efficientnet_b1\": 240,\n",
        "  \"efficientnet_b2\": 260,\n",
        "  \"efficientnet_b3\": 300,\n",
        "  \"efficientnet_b4\": 380,\n",
        "  \"efficientnet_b5\": 456,\n",
        "  \"efficientnet_b6\": 528,\n",
        "  \"efficientnet_b7\": 600,\n",
        "  \"inception_v3\": 299,\n",
        "  \"inception_resnet_v2\": 299,\n",
        "  \"nasnet_large\": 331,\n",
        "  \"pnasnet_large\": 331,\n",
        "}\n"
      ],
      "execution_count": null,
      "outputs": []
    },
    {
      "cell_type": "code",
      "metadata": {
        "id": "CFkEgG-rwfQ9"
      },
      "source": [
        "# Ahora se encuentran las razas agregadas\n",
        "train_dir = '/content/drive/MyDrive/Colab Data/Proyecto buscomiperro/train'\n",
        "test_dir = '/content/drive/MyDrive/Colab Data/Proyecto buscomiperro/test'\n"
      ],
      "execution_count": null,
      "outputs": []
    },
    {
      "cell_type": "markdown",
      "metadata": {
        "id": "A5R3hTDPLDkm"
      },
      "source": [
        "# Diferencias TF hub vs Keras Applications\n",
        "\n",
        "Si bien trabajan sobre los mismos modelos pre entrenados, hay grandes diferencias en cuanto a las condiciones de entrada (Shape) y sus respectivas salidas. Estas son algunas diferencias: <br>\n",
        "- TF Hub version returns logits (before the softmax function that turns them into probabilities), which is a common practice, because the cross-entropy loss can be computed with greater numerical stability from the logits.\n",
        "- The TF Hub model assumes float32 inputs in the range of [0,1], which is what you get from tf.image.decode_jpeg(...) followed by tf.image.convert_image_dtype(..., tf.float32). The Keras code uses a model-specific range (likely [-1,+1]).\n",
        "- The TF Hub model reflects the original SLIM checkpoint more completely in returning all its 1001 output classes. As stated in the ImageNetLabels.txt linked from the documentation, the added class 0 is \"background\" (aka. \"stuff\"). That is what object detection uses to indicate image background as opposed to an object of any known class.\n",
        "\n",
        "Fuente : https://stackoverflow.com/questions/60251715/difference-between-keras-and-tensorflow-hub-version-of-mobilenetv2"
      ]
    },
    {
      "cell_type": "markdown",
      "metadata": {
        "id": "WhQTkALLlwX_"
      },
      "source": [
        "# Pretrained Models\n",
        "Cargamos los modelos pre entrenados usando la API de Keras o Tensorflow Hub. <br>\n",
        "Hay que tener mucho ojo en el preprocesamiento de las imagenes para cada modelo pre entrenado"
      ]
    },
    {
      "cell_type": "code",
      "metadata": {
        "id": "ctV3tJU_-rpE"
      },
      "source": [
        "# Vamos a crear una función para poder definir cada modelo pre entrenado\n",
        "def create_model(model_url, img_size, scale = True, trainable = False):\n",
        "\n",
        "  # Data augmentation / Scaling\n",
        "  data_augmentation = tf.keras.Sequential([\n",
        "                                        #preprocessing.RandomFlip(\"horizontal\"),\n",
        "                                        #preprocessing.RandomRotation(0.2),\n",
        "                                        #preprocessing.RandomZoom(0.2),\n",
        "                                        #preprocessing.RandomHeight(0.2),\n",
        "                                        #preprocessing.RandomWidth(0.2),\n",
        "                                        preprocessing.Rescaling(1./255) # keep for ResNet50V2, remove for EfficientNetB0\n",
        "                                        ], name =\"data_augmentation\")\n",
        "\n",
        "\n",
        "\n",
        "\n",
        "\n",
        "\n",
        "  feature_extractor_layer = hub.KerasLayer(model_url,\n",
        "                                           trainable= trainable ,\n",
        "                                           name='feature_extraction_layer',\n",
        "                                           input_shape= img_size+(3,)) # define the input image shape\n",
        "\n",
        "  model = tf.keras.Sequential([\n",
        "    layers.InputLayer(input_shape= img_size + (3,)),\n",
        "    data_augmentation,\n",
        "    feature_extractor_layer, # use the feature extraction layer as the base\n",
        "    layers.Dense(NUM_CLASSES, activation='softmax', name='output_layer') # create our own output layer      \n",
        "  ])\n",
        "\n",
        "  return model"
      ],
      "execution_count": null,
      "outputs": []
    },
    {
      "cell_type": "code",
      "metadata": {
        "id": "-znGEMjg169v"
      },
      "source": [
        "def create_model_application(model_application, preprocess_input, img_size, model_name = 'Model'):\n",
        "  from tensorflow.keras.utils import plot_model\n",
        "\n",
        "  base_model = model_application(include_top = False)\n",
        "  base_model.trainable = False\n",
        "\n",
        "  plot_model(base_model, to_file = model_name + '_plot.png')\n",
        "\n",
        "  # Arquitectura\n",
        "\n",
        "  inputs = tf.keras.layers.Input(img_size + (3,), name = 'Input_Layer')\n",
        "\n",
        "  x = preprocess_input(inputs)\n",
        "\n",
        "  x = base_model(x, training = False) # se me olvido poner trainable = False D: no me la container amarillo\n",
        "\n",
        "  x = tf.keras.layers.GlobalAveragePooling2D(name = 'global_average_layer')(x)\n",
        "\n",
        "  outputs = tf.keras.layers.Dense(NUM_CLASSES, activation='softmax', name = 'Output_Layer')(x)\n",
        "\n",
        "  model = tf.keras.Model(inputs, outputs, name = model_name)\n",
        "\n",
        "  model.compile(loss='categorical_crossentropy',\n",
        "              optimizer=tf.keras.optimizers.Adam(),\n",
        "              metrics=[\"accuracy\"])\n",
        "  \n",
        "  return model\n",
        "\n",
        "\n",
        "\n",
        "\n",
        "\n",
        "\n"
      ],
      "execution_count": null,
      "outputs": []
    },
    {
      "cell_type": "markdown",
      "metadata": {
        "id": "zbdV1UB4jzEO"
      },
      "source": [
        "## InceptionV3 - TF hub\n",
        "\n",
        "| Model       | Size  | Top-1 Accuracy | Top-5 Accuracy | Parameters | Depth |\n",
        "|-------------|-------|----------------|----------------|------------|-------|\n",
        "| InceptionV3 | 92 MB | 0.779          | 0.937          | 23,851,784 | 159   |\n",
        "\n",
        "Debido a que esta fue la arquitectura que probamos anteriormente, comenzaremos con InceptionV3, viendo en TF Hub me di cuenta que existian ademas pesos pre entrenados con un dataset llamado iNaturalist, y ya que nuestro proyecto se enfoca a animales, probaré también estos pesos para ver que tal.\n",
        "\n",
        "\n",
        "*   [Inception V3- ImageNet](https://tfhub.dev/google/imagenet/inception_v3/feature_vector/5)\n",
        "*   [Inception V3- iNaturalist](https://tfhub.dev/google/inaturalist/inception_v3/feature_vector/5)\n",
        "\n",
        "\n",
        "**Input Shape Requeriments** <br>\n",
        "The output is a batch of feature vectors. For each input image, the feature vector has size num_features = 2048. The feature vectors can then be used further, e.g., for classification as above.\n",
        "\n",
        "The input images are expected to have color values in the range [0,1], following the common image input conventions. The expected size of the input images is **height x width = 299 x 299** pixels by default, but other input sizes are possible (within limits).\n",
        "\n",
        "\n"
      ]
    },
    {
      "cell_type": "code",
      "metadata": {
        "id": "DyYnapD47p4t"
      },
      "source": [
        "IMG_SIZE = (299, 299)\n",
        "BATCH_SIZE = 32\n",
        "NUM_CLASSES = 125 # Las 122 anteriores + las 3 nuevas."
      ],
      "execution_count": null,
      "outputs": []
    },
    {
      "cell_type": "markdown",
      "metadata": {
        "id": "byVjkUk2-JsC"
      },
      "source": [
        "125 clases ya que se agregaron 3 más"
      ]
    },
    {
      "cell_type": "markdown",
      "metadata": {
        "id": "7Nnm4kVNJI46"
      },
      "source": [
        "DATA"
      ]
    },
    {
      "cell_type": "code",
      "metadata": {
        "colab": {
          "base_uri": "https://localhost:8080/"
        },
        "id": "qEcwP3djJK1A",
        "outputId": "d4217828-3673-4717-9c64-1ce24feb020b"
      },
      "source": [
        "train_data = tf.keras.preprocessing.image_dataset_from_directory(train_dir,\n",
        "                                                                 label_mode='categorical',\n",
        "                                                                 image_size = IMG_SIZE,\n",
        "                                                                 batch_size = BATCH_SIZE\n",
        "                                                                 )\n",
        "  \n",
        "test_data = tf.keras.preprocessing.image_dataset_from_directory(test_dir,\n",
        "                                                                label_mode = 'categorical',\n",
        "                                                                image_size = IMG_SIZE,\n",
        "                                                                batch_size = BATCH_SIZE\n",
        "                                                                )\n",
        "  "
      ],
      "execution_count": null,
      "outputs": [
        {
          "output_type": "stream",
          "text": [
            "Found 8594 files belonging to 125 classes.\n",
            "Found 2108 files belonging to 125 classes.\n"
          ],
          "name": "stdout"
        }
      ]
    },
    {
      "cell_type": "code",
      "metadata": {
        "id": "ydIpyJyaOJl8"
      },
      "source": [
        "# Feature vectors of images with Inception V3 trained on ImageNet (ILSVRC-2012-CLS).\n",
        "url_IncImgNet = 'https://tfhub.dev/google/imagenet/inception_v3/feature_vector/5'\n",
        "\n",
        "# Feature vectors of images with Inception V3 trained on the iNaturalist (iNat) 2017 dataset.\n",
        "url_IncNaturalist = 'https://tfhub.dev/google/inaturalist/inception_v3/feature_vector/5'"
      ],
      "execution_count": null,
      "outputs": []
    },
    {
      "cell_type": "markdown",
      "metadata": {
        "id": "vHZ2M3fN3HqG"
      },
      "source": [
        "### ImageNet"
      ]
    },
    {
      "cell_type": "code",
      "metadata": {
        "id": "-fjnhluNjdYG"
      },
      "source": [
        "IncImgNet_model = create_model(url_IncImgNet , IMG_SIZE, scale = True) # Inception necesita las imagenes en un rango entre [0,1]"
      ],
      "execution_count": null,
      "outputs": []
    },
    {
      "cell_type": "code",
      "metadata": {
        "colab": {
          "base_uri": "https://localhost:8080/"
        },
        "id": "hmcDLxPyjl3b",
        "outputId": "bb506878-0beb-4d09-cfc7-4d597e0381a1"
      },
      "source": [
        "IncImgNet_model.summary()"
      ],
      "execution_count": null,
      "outputs": [
        {
          "output_type": "stream",
          "text": [
            "Model: \"sequential\"\n",
            "_________________________________________________________________\n",
            "Layer (type)                 Output Shape              Param #   \n",
            "=================================================================\n",
            "data_augmentation (Sequentia (None, 299, 299, 3)       0         \n",
            "_________________________________________________________________\n",
            "feature_extraction_layer (Ke (None, 2048)              21802784  \n",
            "_________________________________________________________________\n",
            "output_layer (Dense)         (None, 125)               256125    \n",
            "=================================================================\n",
            "Total params: 22,058,909\n",
            "Trainable params: 256,125\n",
            "Non-trainable params: 21,802,784\n",
            "_________________________________________________________________\n"
          ],
          "name": "stdout"
        }
      ]
    },
    {
      "cell_type": "markdown",
      "metadata": {
        "id": "OW8_o0nFDRku"
      },
      "source": [
        "Es importante entender los shape de estas etapas, según la documentación, de InceptionV3 sale (luego del respectivo Flatten) un vector de tamaño 2048. Luego viene un Dense layer de 125 nodos con función de activación Softmax ya que tenemos 125 clases. Es por esto que los 2048 estan conectados a los 125 nodos de la última layer, además cada nodo tiene un parámetro de Bias, resultando en:\n",
        "\n",
        "\\begin{equation}\n",
        "parametros = 2048*125 + 125 = 256125\n",
        "\\end{equation}"
      ]
    },
    {
      "cell_type": "code",
      "metadata": {
        "id": "mDFLg9THDQ-U"
      },
      "source": [
        "# Compilamos\n",
        "IncImgNet_model.compile(loss='categorical_crossentropy',\n",
        "                     optimizer=tf.keras.optimizers.Adam(),\n",
        "                     metrics=['accuracy'])"
      ],
      "execution_count": null,
      "outputs": []
    },
    {
      "cell_type": "code",
      "metadata": {
        "colab": {
          "base_uri": "https://localhost:8080/"
        },
        "id": "LtcBtQ_JBrKB",
        "outputId": "5713ac21-b5f4-4ed8-9721-57dec1f8d04e"
      },
      "source": [
        "# Fit the model\n",
        "IncImgNet_history = IncImgNet_model.fit(train_data,\n",
        "                                        epochs=5,\n",
        "                                        steps_per_epoch=len(train_data),\n",
        "                                        validation_data=test_data,\n",
        "                                        validation_steps=len(test_data),\n",
        "                                        # Add TensorBoard callback to model (callbacks parameter takes a list)\n",
        "                                        callbacks=[create_tensorboard_callback(dir_name=\"tensorflow_hub\", # save experiment logs here\n",
        "                                                                              experiment_name=\"InceptionV3-ImageNet\")]) # name of log files"
      ],
      "execution_count": null,
      "outputs": [
        {
          "output_type": "stream",
          "text": [
            "Saving TensorBoard log files to: tensorflow_hub/InceptionV3-ImageNet/20210526-193507\n",
            "Epoch 1/5\n",
            "269/269 [==============================] - 1268s 4s/step - loss: 1.1313 - accuracy: 0.7767 - val_loss: 0.4360 - val_accuracy: 0.8743\n",
            "Epoch 2/5\n",
            "269/269 [==============================] - 72s 265ms/step - loss: 0.2790 - accuracy: 0.9181 - val_loss: 0.3922 - val_accuracy: 0.8757\n",
            "Epoch 3/5\n",
            "269/269 [==============================] - 72s 265ms/step - loss: 0.1908 - accuracy: 0.9446 - val_loss: 0.3795 - val_accuracy: 0.8824\n",
            "Epoch 4/5\n",
            "269/269 [==============================] - 72s 264ms/step - loss: 0.1413 - accuracy: 0.9607 - val_loss: 0.3779 - val_accuracy: 0.8771\n",
            "Epoch 5/5\n",
            "269/269 [==============================] - 72s 265ms/step - loss: 0.1103 - accuracy: 0.9716 - val_loss: 0.3687 - val_accuracy: 0.8781\n"
          ],
          "name": "stdout"
        }
      ]
    },
    {
      "cell_type": "code",
      "metadata": {
        "colab": {
          "base_uri": "https://localhost:8080/",
          "height": 573
        },
        "id": "jWv_08_9RzoG",
        "outputId": "913605ff-4888-4d4d-e6c2-2c22e8e0ab01"
      },
      "source": [
        "plot_loss_curves(IncImgNet_history)"
      ],
      "execution_count": null,
      "outputs": [
        {
          "output_type": "display_data",
          "data": {
            "image/png": "[encoded data removed]",
            "text/plain": [
              "<Figure size 432x288 with 1 Axes>"
            ]
          },
          "metadata": {
            "tags": [],
            "needs_background": "light"
          }
        },
        {
          "output_type": "display_data",
          "data": {
            "image/png": "[encoded data removed]",
            "text/plain": [
              "<Figure size 432x288 with 1 Axes>"
            ]
          },
          "metadata": {
            "tags": [],
            "needs_background": "light"
          }
        }
      ]
    },
    {
      "cell_type": "code",
      "metadata": {
        "id": "Hh1yUEjFR26_"
      },
      "source": [
        "IncImgNet_model.save('IncImgNet.h5')"
      ],
      "execution_count": null,
      "outputs": []
    },
    {
      "cell_type": "markdown",
      "metadata": {
        "id": "4Al-Unt92Sul"
      },
      "source": [
        "### iNaturalist"
      ]
    },
    {
      "cell_type": "code",
      "metadata": {
        "id": "Vxy7K_2WSUFV"
      },
      "source": [
        "IncNaturalist_model = create_model(url_IncNaturalist, IMG_SIZE, scale = True, trainable = False)"
      ],
      "execution_count": null,
      "outputs": []
    },
    {
      "cell_type": "code",
      "metadata": {
        "colab": {
          "base_uri": "https://localhost:8080/"
        },
        "id": "Dvp01GqP7y1G",
        "outputId": "d7c7a1b4-1005-435d-80f0-2dfbbaa15b82"
      },
      "source": [
        "IncNaturalist_model.summary()"
      ],
      "execution_count": null,
      "outputs": [
        {
          "output_type": "stream",
          "text": [
            "Model: \"sequential\"\n",
            "_________________________________________________________________\n",
            "Layer (type)                 Output Shape              Param #   \n",
            "=================================================================\n",
            "data_augmentation (Sequentia (None, 299, 299, 3)       0         \n",
            "_________________________________________________________________\n",
            "feature_extraction_layer (Ke (None, 2048)              21802784  \n",
            "_________________________________________________________________\n",
            "output_layer (Dense)         (None, 125)               256125    \n",
            "=================================================================\n",
            "Total params: 22,058,909\n",
            "Trainable params: 256,125\n",
            "Non-trainable params: 21,802,784\n",
            "_________________________________________________________________\n"
          ],
          "name": "stdout"
        }
      ]
    },
    {
      "cell_type": "code",
      "metadata": {
        "id": "eDWN4RT_TM-R"
      },
      "source": [
        "IncNaturalist_model.compile(loss='categorical_crossentropy',\n",
        "                     optimizer=tf.keras.optimizers.Adam(),\n",
        "                     metrics=['accuracy'])"
      ],
      "execution_count": null,
      "outputs": []
    },
    {
      "cell_type": "code",
      "metadata": {
        "colab": {
          "base_uri": "https://localhost:8080/"
        },
        "id": "fIraBfb18ovA",
        "outputId": "2582dd69-089e-44ab-f9c3-a1040cca1a9b"
      },
      "source": [
        "IncNaturalist_model.summary()"
      ],
      "execution_count": null,
      "outputs": [
        {
          "output_type": "stream",
          "text": [
            "Model: \"sequential\"\n",
            "_________________________________________________________________\n",
            "Layer (type)                 Output Shape              Param #   \n",
            "=================================================================\n",
            "data_augmentation (Sequentia (None, 299, 299, 3)       0         \n",
            "_________________________________________________________________\n",
            "feature_extraction_layer (Ke (None, 2048)              21802784  \n",
            "_________________________________________________________________\n",
            "output_layer (Dense)         (None, 125)               256125    \n",
            "=================================================================\n",
            "Total params: 22,058,909\n",
            "Trainable params: 256,125\n",
            "Non-trainable params: 21,802,784\n",
            "_________________________________________________________________\n"
          ],
          "name": "stdout"
        }
      ]
    },
    {
      "cell_type": "code",
      "metadata": {
        "colab": {
          "base_uri": "https://localhost:8080/"
        },
        "id": "cLfs2HE24u9C",
        "outputId": "9016c4de-0dc9-477a-bb66-071b506ee37f"
      },
      "source": [
        "# Fit the model\n",
        "IncNaturalist_history = IncNaturalist_model.fit(train_data,\n",
        "                                        epochs=5,\n",
        "                                        steps_per_epoch=len(train_data),\n",
        "                                        validation_data=test_data,\n",
        "                                        validation_steps=len(test_data),\n",
        "                                        # Add TensorBoard callback to model (callbacks parameter takes a list)\n",
        "                                        callbacks=[create_tensorboard_callback(dir_name=\"tensorflow_hub\", # save experiment logs here\n",
        "                                                                              experiment_name=\"InceptionV3-iNaturalist\")]) # name of log files"
      ],
      "execution_count": null,
      "outputs": [
        {
          "output_type": "stream",
          "text": [
            "Saving TensorBoard log files to: tensorflow_hub/InceptionV3-iNaturalist/20210527-043754\n",
            "Epoch 1/5\n",
            "269/269 [==============================] - 73s 271ms/step - loss: 0.9931 - accuracy: 0.7647 - val_loss: 2.0648 - val_accuracy: 0.4540\n",
            "Epoch 2/5\n",
            "269/269 [==============================] - 72s 266ms/step - loss: 0.8584 - accuracy: 0.8093 - val_loss: 2.0329 - val_accuracy: 0.4711\n",
            "Epoch 3/5\n",
            "269/269 [==============================] - 72s 267ms/step - loss: 0.7452 - accuracy: 0.8414 - val_loss: 2.0623 - val_accuracy: 0.4639\n",
            "Epoch 4/5\n",
            "269/269 [==============================] - 72s 265ms/step - loss: 0.6546 - accuracy: 0.8671 - val_loss: 2.0757 - val_accuracy: 0.4696\n",
            "Epoch 5/5\n",
            "269/269 [==============================] - 72s 266ms/step - loss: 0.5749 - accuracy: 0.8949 - val_loss: 2.0794 - val_accuracy: 0.4720\n"
          ],
          "name": "stdout"
        }
      ]
    },
    {
      "cell_type": "code",
      "metadata": {
        "colab": {
          "base_uri": "https://localhost:8080/",
          "height": 573
        },
        "id": "IBNIVXr894M2",
        "outputId": "7fa35214-61cf-4909-d762-42bb978ffd3d"
      },
      "source": [
        "plot_loss_curves(IncNaturalist_history)"
      ],
      "execution_count": null,
      "outputs": [
        {
          "output_type": "display_data",
          "data": {
            "image/png": "[encoded data removed]",
            "text/plain": [
              "<Figure size 432x288 with 1 Axes>"
            ]
          },
          "metadata": {
            "tags": [],
            "needs_background": "light"
          }
        },
        {
          "output_type": "display_data",
          "data": {
            "image/png": "[encoded data removed]",
            "text/plain": [
              "<Figure size 432x288 with 1 Axes>"
            ]
          },
          "metadata": {
            "tags": [],
            "needs_background": "light"
          }
        }
      ]
    },
    {
      "cell_type": "code",
      "metadata": {
        "id": "pCIXmkLrJSWc"
      },
      "source": [
        ""
      ],
      "execution_count": null,
      "outputs": []
    },
    {
      "cell_type": "markdown",
      "metadata": {
        "id": "tdJWLu1Vc-nQ"
      },
      "source": [
        "### Conclusión \n",
        "En base a los resultados obtenidos, podemos definir el `modelo 1 = IncImgNet`."
      ]
    },
    {
      "cell_type": "code",
      "metadata": {
        "id": "GY_vBSmQ9djy"
      },
      "source": [
        ""
      ],
      "execution_count": null,
      "outputs": []
    },
    {
      "cell_type": "markdown",
      "metadata": {
        "id": "hHMO2-WPdQMW"
      },
      "source": [
        "## InceptionV3 - Keras Applications\n",
        "\n",
        "Este proceso solo lo hago con fines de aprendizaje, ya que no deberian variar mucho los resultados, pero creo que es bueno poder prácticar ambas herramientas. <br>\n",
        "De todas formas, una diferencia inmediata que pude encontrar es que utilizando la API de Keras, podemos obtener el preprocesamiento para cada modelo pre entrenado. <br>\n",
        "Incluso dentro de este enfoque, hay otros 2 enfoques distintos, Sequential API vs Functional API. En el pasado trabajamos con el enfoque Secuencial. La principal diferencia entre estas APIS es que la API funcional es más flexible que la secuencial, ya que esta ultima te permite crear modelos layer por layer, y **no** permite: Share Layers, Tener branches, Multiples entradas ni multiple salidas. En cambio con la API funcional si se puede. [Más Info](https://hanifi.medium.com/sequential-api-vs-functional-api-model-in-keras-266823d7cd5e). \n",
        "Por razones de estudio, utilizaré la api funcional.\n",
        "\n",
        "**Input Shape Requeriments**\n",
        "Es importante destacar que, si bien en TF Hub se esperaba un rango de entrada de [0,1], en Keras Applications se espera que sea `[-1,1]`. Esto es una gran diferencia, pero para esto nos sirve la función `preprocess_input` que cada modelo pre entrenado tiene consigo. Los pixeles se mantienen, siendo estos `299x299`"
      ]
    },
    {
      "cell_type": "code",
      "metadata": {
        "colab": {
          "base_uri": "https://localhost:8080/"
        },
        "id": "H8uC6wfjdMP8",
        "outputId": "8871dce5-2b61-4898-8bc7-e8e7203f8c8c"
      },
      "source": [
        "from tensorflow.keras.applications import InceptionV3\n",
        "\n",
        "# modelo pre entrenado\n",
        "base_model = InceptionV3(include_top = False, input_shape= IMG_SIZE + (3,)) # Pondremos nuestro propio Top Layer (Dense(125))\n",
        "\n",
        "# Congelamos el modelo para mantener los patrones pre entrenados\n",
        "base_model.trainable = False\n"
      ],
      "execution_count": null,
      "outputs": [
        {
          "output_type": "stream",
          "text": [
            "Downloading data from https://storage.googleapis.com/tensorflow/keras-applications/inception_v3/inception_v3_weights_tf_dim_ordering_tf_kernels.h5\n",
            "96116736/96112376 [==============================] - 1s 0us/step\n"
          ],
          "name": "stdout"
        }
      ]
    },
    {
      "cell_type": "code",
      "metadata": {
        "id": "0JkZ-nGElHny"
      },
      "source": [
        "# Veamos la impresionante arquitectura de este modelo\n",
        "from tensorflow.keras.utils import plot_model\n",
        "plot_model(base_model, show_shapes = True)"
      ],
      "execution_count": null,
      "outputs": []
    },
    {
      "cell_type": "markdown",
      "metadata": {
        "id": "6Jzjb8BmlwuG"
      },
      "source": [
        "SHEEEEEEESH"
      ]
    },
    {
      "cell_type": "code",
      "metadata": {
        "id": "Z-dHufJalLYq"
      },
      "source": [
        "from tensorflow.keras.applications.inception_v3 import preprocess_input # Preprocesa las imaganes a lo que acomoda el modelo pre entrenado\n",
        "\n",
        "# Definimos la Arquitectura con la API Funcional\n",
        "\n",
        "inputs = tf.keras.layers.Input(IMG_SIZE + (3,), name = 'Input_Layer') # Debe haber un input layer ya que el enfoque funcional lo requiere\n",
        "\n",
        "x = preprocess_input(inputs)\n",
        "\n",
        "x = base_model(x) \n",
        "\n",
        "# A diferencia de Tensorflow HUB, la salida del modelo base no es plana, para poder hacerla plana, una opción es aplicar un Average Pool,\n",
        "# esto tambien se hace en el Top por Defecto de Inception (para comprobarlo puedes cargar el modelo base con include_top = True y echar un vistazo \n",
        "# a los ultimos layers)\n",
        "x = tf.keras.layers.GlobalAveragePooling2D(name=\"global_average_pooling_layer\")(x)\n",
        "\n",
        "\n",
        "\n",
        "outputs = tf.keras.layers.Dense(NUM_CLASSES, activation='softmax', name = 'Output_layer')(x)\n",
        "\n",
        "\n",
        "\n",
        "IncKA_model = tf.keras.Model(inputs, outputs) # Se construye el modelo\n",
        "\n",
        "\n",
        "\n"
      ],
      "execution_count": null,
      "outputs": []
    },
    {
      "cell_type": "code",
      "metadata": {
        "colab": {
          "base_uri": "https://localhost:8080/"
        },
        "id": "YDdqGxv5mibI",
        "outputId": "4edac3e5-994c-4cbf-be18-03314ad7982a"
      },
      "source": [
        "IncKA_model.summary()"
      ],
      "execution_count": null,
      "outputs": [
        {
          "output_type": "stream",
          "text": [
            "Model: \"model_1\"\n",
            "_________________________________________________________________\n",
            "Layer (type)                 Output Shape              Param #   \n",
            "=================================================================\n",
            "Input_Layer (InputLayer)     [(None, 299, 299, 3)]     0         \n",
            "_________________________________________________________________\n",
            "tf.math.truediv_1 (TFOpLambd (None, 299, 299, 3)       0         \n",
            "_________________________________________________________________\n",
            "tf.math.subtract_1 (TFOpLamb (None, 299, 299, 3)       0         \n",
            "_________________________________________________________________\n",
            "inception_v3 (Functional)    (None, None, None, 2048)  21802784  \n",
            "_________________________________________________________________\n",
            "global_average_pooling_layer (None, 2048)              0         \n",
            "_________________________________________________________________\n",
            "Output_layer (Dense)         (None, 125)               256125    \n",
            "=================================================================\n",
            "Total params: 22,058,909\n",
            "Trainable params: 256,125\n",
            "Non-trainable params: 21,802,784\n",
            "_________________________________________________________________\n"
          ],
          "name": "stdout"
        }
      ]
    },
    {
      "cell_type": "markdown",
      "metadata": {
        "id": "JdQeggjMw_0R"
      },
      "source": [
        "Veamos que los parametros son exactamente igual a los que teniamos anteriormente"
      ]
    },
    {
      "cell_type": "code",
      "metadata": {
        "id": "EFZRYIGXvF3o"
      },
      "source": [
        "# Compilamos\n",
        "IncKA_model.compile(loss='categorical_crossentropy',\n",
        "              optimizer=tf.keras.optimizers.Adam(),\n",
        "              metrics=[\"accuracy\"])"
      ],
      "execution_count": null,
      "outputs": []
    },
    {
      "cell_type": "code",
      "metadata": {
        "colab": {
          "base_uri": "https://localhost:8080/"
        },
        "id": "YldjsTAvvkbM",
        "outputId": "9ad2625d-d5dd-41b1-a9af-2118fb39a431"
      },
      "source": [
        "# Fit \n",
        "IncKA_history = IncKA_model.fit(train_data,\n",
        "                                epochs=5,\n",
        "                                steps_per_epoch=len(train_data),\n",
        "                                validation_data=test_data,\n",
        "                                validation_steps=len(test_data),\n",
        "                                # Add TensorBoard callback to model (callbacks parameter takes a list)\n",
        "                                callbacks=[create_tensorboard_callback(dir_name=\"tensorflow_hub\", # save experiment logs here\n",
        "                                                                      experiment_name=\"InceptionV3-FunctionalAPI\")]) # name of log files"
      ],
      "execution_count": null,
      "outputs": [
        {
          "output_type": "stream",
          "text": [
            "Saving TensorBoard log files to: tensorflow_hub/InceptionV3-FunctionalAPI/20210527-215004\n",
            "Epoch 1/5\n",
            "269/269 [==============================] - 2007s 7s/step - loss: 1.1663 - accuracy: 0.7704 - val_loss: 0.4418 - val_accuracy: 0.8695\n",
            "Epoch 2/5\n",
            "269/269 [==============================] - 74s 273ms/step - loss: 0.2858 - accuracy: 0.9149 - val_loss: 0.3935 - val_accuracy: 0.8748\n",
            "Epoch 3/5\n",
            "269/269 [==============================] - 74s 272ms/step - loss: 0.1961 - accuracy: 0.9440 - val_loss: 0.3923 - val_accuracy: 0.8809\n",
            "Epoch 4/5\n",
            "269/269 [==============================] - 74s 272ms/step - loss: 0.1440 - accuracy: 0.9601 - val_loss: 0.3767 - val_accuracy: 0.8743\n",
            "Epoch 5/5\n",
            "269/269 [==============================] - 74s 272ms/step - loss: 0.1101 - accuracy: 0.9716 - val_loss: 0.3670 - val_accuracy: 0.8876\n"
          ],
          "name": "stdout"
        }
      ]
    },
    {
      "cell_type": "code",
      "metadata": {
        "colab": {
          "base_uri": "https://localhost:8080/",
          "height": 573
        },
        "id": "RnIHaqkYylnV",
        "outputId": "4c76ac74-70fa-43bd-d989-0615460b12df"
      },
      "source": [
        "plot_loss_curves(IncKA_history)"
      ],
      "execution_count": null,
      "outputs": [
        {
          "output_type": "display_data",
          "data": {
            "image/png": "[encoded data removed]",
            "text/plain": [
              "<Figure size 432x288 with 1 Axes>"
            ]
          },
          "metadata": {
            "tags": [],
            "needs_background": "light"
          }
        },
        {
          "output_type": "display_data",
          "data": {
            "image/png": "[encoded data removed]",
            "text/plain": [
              "<Figure size 432x288 with 1 Axes>"
            ]
          },
          "metadata": {
            "tags": [],
            "needs_background": "light"
          }
        }
      ]
    },
    {
      "cell_type": "markdown",
      "metadata": {
        "id": "YZii3hjUEATd"
      },
      "source": [
        "Resultados bastantes similares, yo creo que la diferencia radica en la aleatoridad inicial de los pesos de las Top Layers."
      ]
    },
    {
      "cell_type": "code",
      "metadata": {
        "id": "Bc8T4wxN8vKM"
      },
      "source": [
        "IncKA_model.save('IncImgNet-FunAPI.h5')"
      ],
      "execution_count": null,
      "outputs": []
    },
    {
      "cell_type": "markdown",
      "metadata": {
        "id": "3EBD0zVwG-IA"
      },
      "source": [
        "## Xception\n",
        "\n",
        "| Model    | Size  | Top-1 Accuracy | Top-5 Accuracy | Parameters | Depth |\n",
        "|----------|-------|----------------|----------------|------------|-------|\n",
        "| Xception | 88 MB | 0.790          | 0.945          | 22,910,480 | 126   |\n",
        "\n",
        "> TFhub no tiene la aquitectura Xception incorporada, por lo que recurriremos a la APi de Keras\n",
        "\n",
        "https://keras.io/api/applications/xception/\n"
      ]
    },
    {
      "cell_type": "code",
      "metadata": {
        "id": "WCN9MmwuzKcg"
      },
      "source": [
        "IMG_SIZE = (299, 299)\n",
        "BATCH_SIZE = 32\n",
        "NUM_CLASSES = 125 # Las 122 anteriores + las 3 nuevas."
      ],
      "execution_count": null,
      "outputs": []
    },
    {
      "cell_type": "markdown",
      "metadata": {
        "id": "3lEfIG8b4MSX"
      },
      "source": [
        "DATA"
      ]
    },
    {
      "cell_type": "code",
      "metadata": {
        "colab": {
          "base_uri": "https://localhost:8080/"
        },
        "id": "ml3NYTbS4NL-",
        "outputId": "21aadd81-fa32-4ad2-8aeb-680b229d301e"
      },
      "source": [
        "train_data = tf.keras.preprocessing.image_dataset_from_directory(train_dir,\n",
        "                                                                 label_mode='categorical',\n",
        "                                                                 image_size = IMG_SIZE,\n",
        "                                                                 batch_size = BATCH_SIZE\n",
        "                                                                 )\n",
        "  \n",
        "test_data = tf.keras.preprocessing.image_dataset_from_directory(test_dir,\n",
        "                                                                label_mode = 'categorical',\n",
        "                                                                image_size = IMG_SIZE,\n",
        "                                                                batch_size = BATCH_SIZE\n",
        "                                                                )\n",
        "  "
      ],
      "execution_count": null,
      "outputs": [
        {
          "output_type": "stream",
          "text": [
            "Found 8594 files belonging to 125 classes.\n",
            "Found 2108 files belonging to 125 classes.\n"
          ],
          "name": "stdout"
        }
      ]
    },
    {
      "cell_type": "markdown",
      "metadata": {
        "id": "n_gXexuhteOc"
      },
      "source": [
        "### Xception - Keras Applications\n",
        "\n",
        "**Input Shape Requeriments**\n",
        "- 299x299\n",
        "- range [-1,1] (`preprocess_input`)"
      ]
    },
    {
      "cell_type": "code",
      "metadata": {
        "colab": {
          "base_uri": "https://localhost:8080/"
        },
        "id": "LEahDIvp3JuN",
        "outputId": "8ce1ac9a-c4d0-4fd2-8a27-3879450e8191"
      },
      "source": [
        "from tensorflow.keras.applications import Xception\n",
        "from tensorflow.keras.applications.xception import preprocess_input\n",
        "\n",
        "Xception_model = create_model_application(Xception, preprocess_input, IMG_SIZE)"
      ],
      "execution_count": null,
      "outputs": [
        {
          "output_type": "stream",
          "text": [
            "Downloading data from https://storage.googleapis.com/tensorflow/keras-applications/xception/xception_weights_tf_dim_ordering_tf_kernels_notop.h5\n",
            "83689472/83683744 [==============================] - 1s 0us/step\n"
          ],
          "name": "stdout"
        }
      ]
    },
    {
      "cell_type": "code",
      "metadata": {
        "colab": {
          "base_uri": "https://localhost:8080/"
        },
        "id": "FYjNsY-g3j-C",
        "outputId": "39142c6a-f1e8-4803-db64-21e9898da6fa"
      },
      "source": [
        "Xception_model.summary()"
      ],
      "execution_count": null,
      "outputs": [
        {
          "output_type": "stream",
          "text": [
            "Model: \"model\"\n",
            "_________________________________________________________________\n",
            "Layer (type)                 Output Shape              Param #   \n",
            "=================================================================\n",
            "Input_Layer (InputLayer)     [(None, 299, 299, 3)]     0         \n",
            "_________________________________________________________________\n",
            "tf.math.truediv (TFOpLambda) (None, 299, 299, 3)       0         \n",
            "_________________________________________________________________\n",
            "tf.math.subtract (TFOpLambda (None, 299, 299, 3)       0         \n",
            "_________________________________________________________________\n",
            "xception (Functional)        (None, None, None, 2048)  20861480  \n",
            "_________________________________________________________________\n",
            "global_average_layer (Global (None, 2048)              0         \n",
            "_________________________________________________________________\n",
            "Output_Layer (Dense)         (None, 125)               256125    \n",
            "=================================================================\n",
            "Total params: 21,117,605\n",
            "Trainable params: 256,125\n",
            "Non-trainable params: 20,861,480\n",
            "_________________________________________________________________\n"
          ],
          "name": "stdout"
        }
      ]
    },
    {
      "cell_type": "code",
      "metadata": {
        "colab": {
          "base_uri": "https://localhost:8080/"
        },
        "id": "K2yUi1wI1xAm",
        "outputId": "ddd8b9d0-2382-4993-e6af-593160d86b13"
      },
      "source": [
        "# Fit \n",
        "Xception_history = Xception_model.fit(train_data,\n",
        "                                epochs=5,\n",
        "                                steps_per_epoch=len(train_data),\n",
        "                                validation_data=test_data,\n",
        "                                validation_steps=len(test_data),\n",
        "                                # Add TensorBoard callback to model (callbacks parameter takes a list)\n",
        "                                callbacks=[create_tensorboard_callback(dir_name=\"tensorflow_hub\", # save experiment logs here\n",
        "                                                                      experiment_name=\"Xception\")]) # name of log files"
      ],
      "execution_count": null,
      "outputs": [
        {
          "output_type": "stream",
          "text": [
            "Saving TensorBoard log files to: tensorflow_hub/Xception/20210528-165207\n",
            "Epoch 1/5\n"
          ],
          "name": "stdout"
        },
        {
          "output_type": "stream",
          "text": [
            "/usr/local/lib/python3.7/dist-packages/tensorflow/python/keras/utils/generic_utils.py:497: CustomMaskWarning: Custom mask layers require a config and must override get_config. When loading, the custom mask layer must be passed to the custom_objects argument.\n",
            "  category=CustomMaskWarning)\n"
          ],
          "name": "stderr"
        },
        {
          "output_type": "stream",
          "text": [
            "269/269 [==============================] - 2073s 7s/step - loss: 1.1696 - accuracy: 0.7974 - val_loss: 0.4182 - val_accuracy: 0.8971\n",
            "Epoch 2/5\n",
            "269/269 [==============================] - 122s 452ms/step - loss: 0.2905 - accuracy: 0.9246 - val_loss: 0.3509 - val_accuracy: 0.8999\n",
            "Epoch 3/5\n",
            "269/269 [==============================] - 123s 454ms/step - loss: 0.2143 - accuracy: 0.9416 - val_loss: 0.3342 - val_accuracy: 0.9004\n",
            "Epoch 4/5\n",
            "269/269 [==============================] - 122s 453ms/step - loss: 0.1697 - accuracy: 0.9543 - val_loss: 0.3281 - val_accuracy: 0.8980\n",
            "Epoch 5/5\n",
            "269/269 [==============================] - 122s 453ms/step - loss: 0.1402 - accuracy: 0.9629 - val_loss: 0.3208 - val_accuracy: 0.9004\n"
          ],
          "name": "stdout"
        }
      ]
    },
    {
      "cell_type": "markdown",
      "metadata": {
        "id": "gYNP79ACFyEh"
      },
      "source": [
        "Aparentemente tiene mejores resultados ($\\approx +3\\%$) que InceptionV3"
      ]
    },
    {
      "cell_type": "code",
      "metadata": {
        "colab": {
          "base_uri": "https://localhost:8080/"
        },
        "id": "AUXYC5kcF2tX",
        "outputId": "b70ac860-3757-439d-b70a-22268ef13699"
      },
      "source": [
        "Xception_model.evaluate(test_data)"
      ],
      "execution_count": null,
      "outputs": [
        {
          "output_type": "stream",
          "text": [
            "66/66 [==============================] - 23s 335ms/step - loss: 0.3208 - accuracy: 0.9004\n"
          ],
          "name": "stdout"
        },
        {
          "output_type": "execute_result",
          "data": {
            "text/plain": [
              "[0.3207794427871704, 0.900379478931427]"
            ]
          },
          "metadata": {
            "tags": []
          },
          "execution_count": 15
        }
      ]
    },
    {
      "cell_type": "code",
      "metadata": {
        "colab": {
          "base_uri": "https://localhost:8080/",
          "height": 573
        },
        "id": "6wDLpJzL4Cen",
        "outputId": "2ac4d3e0-ed3d-498e-db26-03aa2088b7b1"
      },
      "source": [
        "plot_loss_curves(Xception_history)"
      ],
      "execution_count": null,
      "outputs": [
        {
          "output_type": "display_data",
          "data": {
            "image/png": "[encoded data removed]",
            "text/plain": [
              "<Figure size 432x288 with 1 Axes>"
            ]
          },
          "metadata": {
            "tags": [],
            "needs_background": "light"
          }
        },
        {
          "output_type": "display_data",
          "data": {
            "image/png": "[encoded data removed]",
            "text/plain": [
              "<Figure size 432x288 with 1 Axes>"
            ]
          },
          "metadata": {
            "tags": [],
            "needs_background": "light"
          }
        }
      ]
    },
    {
      "cell_type": "code",
      "metadata": {
        "colab": {
          "base_uri": "https://localhost:8080/"
        },
        "id": "IQl67wHSFfzx",
        "outputId": "8b00b2f9-df30-46fe-c440-42dbab0d8d36"
      },
      "source": [
        "Xception_model.save('Xception.h5')"
      ],
      "execution_count": null,
      "outputs": [
        {
          "output_type": "stream",
          "text": [
            "/usr/local/lib/python3.7/dist-packages/tensorflow/python/keras/utils/generic_utils.py:497: CustomMaskWarning: Custom mask layers require a config and must override get_config. When loading, the custom mask layer must be passed to the custom_objects argument.\n",
            "  category=CustomMaskWarning)\n"
          ],
          "name": "stderr"
        }
      ]
    },
    {
      "cell_type": "code",
      "metadata": {
        "id": "gkIVHx-pFocq"
      },
      "source": [
        "zip_folder('tensorflow_hub')"
      ],
      "execution_count": null,
      "outputs": []
    },
    {
      "cell_type": "markdown",
      "metadata": {
        "id": "4hYxF3_gGeZZ"
      },
      "source": [
        "## ResNet152V2\n",
        "\n",
        "| Model       | Size   | Top-1 Accuracy | Top-5 Accuracy | Parameters | Depth |\n",
        "|-------------|--------|----------------|----------------|------------|-------|\n",
        "| ResNet152V2 | 232 MB | 0.780          | 0.942          | 60,380,648 |       |\n",
        "\n"
      ]
    },
    {
      "cell_type": "code",
      "metadata": {
        "id": "0Msg68D4Q5XO"
      },
      "source": [
        "IMG_SIZE = (224, 224)\n",
        "BATCH_SIZE = 32\n",
        "NUM_CLASSES = 125 # Las 122 anteriores + las 3 nuevas."
      ],
      "execution_count": null,
      "outputs": []
    },
    {
      "cell_type": "code",
      "metadata": {
        "colab": {
          "base_uri": "https://localhost:8080/"
        },
        "id": "vWgaJc3_Rxwa",
        "outputId": "9ab730ee-f74a-4139-b044-014545aba022"
      },
      "source": [
        "train_data = tf.keras.preprocessing.image_dataset_from_directory(train_dir,\n",
        "                                                                 label_mode='categorical',\n",
        "                                                                 image_size = IMG_SIZE,\n",
        "                                                                 batch_size = BATCH_SIZE\n",
        "                                                                 )\n",
        "  \n",
        "test_data = tf.keras.preprocessing.image_dataset_from_directory(test_dir,\n",
        "                                                                label_mode = 'categorical',\n",
        "                                                                image_size = IMG_SIZE,\n",
        "                                                                batch_size = BATCH_SIZE\n",
        "                                                                )"
      ],
      "execution_count": null,
      "outputs": [
        {
          "output_type": "stream",
          "text": [
            "Found 8594 files belonging to 125 classes.\n",
            "Found 2108 files belonging to 125 classes.\n"
          ],
          "name": "stdout"
        }
      ]
    },
    {
      "cell_type": "markdown",
      "metadata": {
        "id": "z7NDc2ntQrcZ"
      },
      "source": [
        "### TF HUB\n",
        "\n",
        "**Shape Requeriments**\n",
        "The input images are expected to have color values in the range `[0,1]`, following the common image input conventions. The expected size of the input images is height x width = `224 x 224` pixels by default, but other input sizes are possible (within limits).\n",
        "\n",
        "https://tfhub.dev/google/imagenet/resnet_v2_152/feature_vector/5"
      ]
    },
    {
      "cell_type": "code",
      "metadata": {
        "id": "EU0LsAKEFrkq"
      },
      "source": [
        "url_resnet = 'https://tfhub.dev/google/imagenet/resnet_v2_152/feature_vector/5'"
      ],
      "execution_count": null,
      "outputs": []
    },
    {
      "cell_type": "code",
      "metadata": {
        "id": "JiGMYY6OR2X2"
      },
      "source": [
        "resnet_hub_model = create_model(url_resnet, IMG_SIZE, scale = True, trainable = False)"
      ],
      "execution_count": null,
      "outputs": []
    },
    {
      "cell_type": "code",
      "metadata": {
        "colab": {
          "base_uri": "https://localhost:8080/"
        },
        "id": "4TwQm1guSX90",
        "outputId": "9fa6d310-6c9f-4b4f-9115-d8770a3071b3"
      },
      "source": [
        "resnet_hub_model.summary()"
      ],
      "execution_count": null,
      "outputs": [
        {
          "output_type": "stream",
          "text": [
            "Model: \"sequential\"\n",
            "_________________________________________________________________\n",
            "Layer (type)                 Output Shape              Param #   \n",
            "=================================================================\n",
            "data_augmentation (Sequentia (None, 224, 224, 3)       0         \n",
            "_________________________________________________________________\n",
            "feature_extraction_layer (Ke (None, 2048)              58331648  \n",
            "_________________________________________________________________\n",
            "output_layer (Dense)         (None, 125)               256125    \n",
            "=================================================================\n",
            "Total params: 58,587,773\n",
            "Trainable params: 256,125\n",
            "Non-trainable params: 58,331,648\n",
            "_________________________________________________________________\n"
          ],
          "name": "stdout"
        }
      ]
    },
    {
      "cell_type": "code",
      "metadata": {
        "id": "2TXU8pvPSrrz"
      },
      "source": [
        "# Compilamos\n",
        "resnet_hub_model.compile(loss='categorical_crossentropy',\n",
        "                     optimizer=tf.keras.optimizers.Adam(),\n",
        "                     metrics=['accuracy'])"
      ],
      "execution_count": null,
      "outputs": []
    },
    {
      "cell_type": "code",
      "metadata": {
        "colab": {
          "base_uri": "https://localhost:8080/"
        },
        "id": "sxGCHBnES2ey",
        "outputId": "2c6d3067-46ab-455a-92de-c3eb7c8d42d6"
      },
      "source": [
        "# Fit the model\n",
        "resnet_hub_history = resnet_hub_model.fit(train_data,\n",
        "                                          epochs=5,\n",
        "                                          steps_per_epoch=len(train_data),\n",
        "                                          validation_data=test_data,\n",
        "                                          validation_steps=len(test_data),\n",
        "                                          # Add TensorBoard callback to model (callbacks parameter takes a list)\n",
        "                                          callbacks=[create_tensorboard_callback(dir_name=\"tensorflow_hub\", # save experiment logs here\n",
        "                                                                                experiment_name=\"resnet_hub\")]) # name of log files"
      ],
      "execution_count": null,
      "outputs": [
        {
          "output_type": "stream",
          "text": [
            "Saving TensorBoard log files to: tensorflow_hub/resnet_hub/20210529-042304\n",
            "Epoch 1/5\n",
            "269/269 [==============================] - 1280s 5s/step - loss: 1.4942 - accuracy: 0.6397 - val_loss: 0.8287 - val_accuracy: 0.7652\n",
            "Epoch 2/5\n",
            "269/269 [==============================] - 99s 367ms/step - loss: 0.4356 - accuracy: 0.8684 - val_loss: 0.8413 - val_accuracy: 0.7623\n",
            "Epoch 3/5\n",
            "269/269 [==============================] - 98s 364ms/step - loss: 0.2267 - accuracy: 0.9405 - val_loss: 0.8091 - val_accuracy: 0.7690\n",
            "Epoch 4/5\n",
            "269/269 [==============================] - 98s 363ms/step - loss: 0.1292 - accuracy: 0.9720 - val_loss: 0.8343 - val_accuracy: 0.7694\n",
            "Epoch 5/5\n",
            "269/269 [==============================] - 98s 363ms/step - loss: 0.0826 - accuracy: 0.9862 - val_loss: 0.8382 - val_accuracy: 0.7676\n"
          ],
          "name": "stdout"
        }
      ]
    },
    {
      "cell_type": "code",
      "metadata": {
        "id": "kcYgJr9Dd7GW"
      },
      "source": [
        "zip_folder('tensorflow_hub')"
      ],
      "execution_count": null,
      "outputs": []
    },
    {
      "cell_type": "markdown",
      "metadata": {
        "id": "r62l4pOSTiiW"
      },
      "source": [
        "### Keras Application\n",
        "\n",
        "https://keras.io/api/applications/resnet/#resnet152v2-function"
      ]
    },
    {
      "cell_type": "code",
      "metadata": {
        "colab": {
          "base_uri": "https://localhost:8080/"
        },
        "id": "gJuij5lMTMcw",
        "outputId": "9a143b12-31b7-4747-a3d1-83b1b060be4d"
      },
      "source": [
        "from tensorflow.keras.applications import ResNet152V2\n",
        "from tensorflow.keras.applications.resnet_v2 import preprocess_input\n",
        "\n",
        "base_model = ResNet152V2\n",
        "\n",
        "resnet_ka_model = create_model_application(base_model, preprocess_input, IMG_SIZE, model_name = 'resnet')"
      ],
      "execution_count": null,
      "outputs": [
        {
          "output_type": "stream",
          "text": [
            "Downloading data from https://storage.googleapis.com/tensorflow/keras-applications/resnet/resnet152v2_weights_tf_dim_ordering_tf_kernels_notop.h5\n",
            "234553344/234545216 [==============================] - 3s 0us/step\n",
            "dot: graph is too large for cairo-renderer bitmaps. Scaling by 0.604814 to fit\n",
            "\n"
          ],
          "name": "stdout"
        }
      ]
    },
    {
      "cell_type": "code",
      "metadata": {
        "colab": {
          "base_uri": "https://localhost:8080/"
        },
        "id": "HBY5ia4dTxCb",
        "outputId": "930060d2-8c98-472d-f43b-ad105cce180f"
      },
      "source": [
        "resnet_ka_model.summary()"
      ],
      "execution_count": null,
      "outputs": [
        {
          "output_type": "stream",
          "text": [
            "Model: \"resnet\"\n",
            "_________________________________________________________________\n",
            "Layer (type)                 Output Shape              Param #   \n",
            "=================================================================\n",
            "Input_Layer (InputLayer)     [(None, 224, 224, 3)]     0         \n",
            "_________________________________________________________________\n",
            "tf.math.truediv (TFOpLambda) (None, 224, 224, 3)       0         \n",
            "_________________________________________________________________\n",
            "tf.math.subtract (TFOpLambda (None, 224, 224, 3)       0         \n",
            "_________________________________________________________________\n",
            "resnet152v2 (Functional)     (None, None, None, 2048)  58331648  \n",
            "_________________________________________________________________\n",
            "global_average_layer (Global (None, 2048)              0         \n",
            "_________________________________________________________________\n",
            "Output_Layer (Dense)         (None, 125)               256125    \n",
            "=================================================================\n",
            "Total params: 58,587,773\n",
            "Trainable params: 256,125\n",
            "Non-trainable params: 58,331,648\n",
            "_________________________________________________________________\n"
          ],
          "name": "stdout"
        }
      ]
    },
    {
      "cell_type": "code",
      "metadata": {
        "id": "PQ1ftX5EVoJ5",
        "colab": {
          "base_uri": "https://localhost:8080/"
        },
        "outputId": "873ed084-d214-49f8-f26c-cc69526fedb7"
      },
      "source": [
        "# Fit \n",
        "resnet_ka_history = resnet_ka_model.fit(train_data,\n",
        "                                epochs=5,\n",
        "                                steps_per_epoch=len(train_data),\n",
        "                                validation_data=test_data,\n",
        "                                validation_steps=len(test_data),\n",
        "                                # Add TensorBoard callback to model (callbacks parameter takes a list)\n",
        "                                callbacks=[create_tensorboard_callback(dir_name=\"tensorflow_hub\", # save experiment logs here\n",
        "                                                                      experiment_name=\"resnet_KA\")]) # name of log files"
      ],
      "execution_count": null,
      "outputs": [
        {
          "output_type": "stream",
          "text": [
            "Saving TensorBoard log files to: tensorflow_hub/resnet_KA/20210529-143027\n"
          ],
          "name": "stdout"
        },
        {
          "output_type": "stream",
          "text": [
            "/usr/local/lib/python3.7/dist-packages/tensorflow/python/keras/utils/generic_utils.py:497: CustomMaskWarning: Custom mask layers require a config and must override get_config. When loading, the custom mask layer must be passed to the custom_objects argument.\n",
            "  category=CustomMaskWarning)\n"
          ],
          "name": "stderr"
        },
        {
          "output_type": "stream",
          "text": [
            "Epoch 1/5\n",
            "269/269 [==============================] - 1297s 5s/step - loss: 1.5197 - accuracy: 0.6317 - val_loss: 0.8952 - val_accuracy: 0.7410\n",
            "Epoch 2/5\n",
            "269/269 [==============================] - 100s 369ms/step - loss: 0.4386 - accuracy: 0.8663 - val_loss: 0.8493 - val_accuracy: 0.7595\n",
            "Epoch 3/5\n",
            "269/269 [==============================] - 101s 374ms/step - loss: 0.2328 - accuracy: 0.9360 - val_loss: 0.8525 - val_accuracy: 0.7576\n",
            "Epoch 4/5\n",
            "269/269 [==============================] - 101s 374ms/step - loss: 0.1328 - accuracy: 0.9713 - val_loss: 0.8550 - val_accuracy: 0.7704\n",
            "Epoch 5/5\n",
            "269/269 [==============================] - 102s 379ms/step - loss: 0.0825 - accuracy: 0.9869 - val_loss: 0.8418 - val_accuracy: 0.7728\n"
          ],
          "name": "stdout"
        }
      ]
    },
    {
      "cell_type": "markdown",
      "metadata": {
        "id": "f-uw-wL2oxP1"
      },
      "source": [
        "Vemos que Resnet consigue unos resultados buenos, pero no tanto como los otros estimadores, aún asi, ya que queremos escoger 3 modelos, este quedaria seleccionado."
      ]
    },
    {
      "cell_type": "code",
      "metadata": {
        "colab": {
          "base_uri": "https://localhost:8080/"
        },
        "id": "qZw2HOCfiA2l",
        "outputId": "9e4c655a-1bb5-47bd-b52e-7b6d8c44b05e"
      },
      "source": [
        "resnet_ka_model.evaluate(test_data)"
      ],
      "execution_count": null,
      "outputs": [
        {
          "output_type": "stream",
          "text": [
            "66/66 [==============================] - 20s 298ms/step - loss: 0.8418 - accuracy: 0.7728\n"
          ],
          "name": "stdout"
        },
        {
          "output_type": "execute_result",
          "data": {
            "text/plain": [
              "[0.8417608737945557, 0.7727704048156738]"
            ]
          },
          "metadata": {
            "tags": []
          },
          "execution_count": 13
        }
      ]
    },
    {
      "cell_type": "code",
      "metadata": {
        "id": "U0kLnJdvpAB9"
      },
      "source": [
        "zip_folder('tensorflow_hub')"
      ],
      "execution_count": null,
      "outputs": []
    },
    {
      "cell_type": "markdown",
      "metadata": {
        "id": "jzeZ8atos2Xg"
      },
      "source": [
        "## EfficientNet"
      ]
    },
    {
      "cell_type": "markdown",
      "metadata": {
        "id": "uuXAMaBYOB9G"
      },
      "source": [
        "### EfficientNet 7\n",
        "\n",
        "| Model          | Size   | Top-1 Accuracy | Top-5 Accuracy | Parameters | Depth |\n",
        "|----------------|--------|----------------|----------------|------------|-------|\n",
        "| EfficientNetB7 | 256 MB | -              | -              | 66,658,687 | -     |\n"
      ]
    },
    {
      "cell_type": "code",
      "metadata": {
        "id": "CYCsXHENPXcY"
      },
      "source": [
        "IMG_SIZE = (600,600)\n",
        "NUM_CLASSES = 125\n",
        "BATCH_SIZE = 32"
      ],
      "execution_count": null,
      "outputs": []
    },
    {
      "cell_type": "code",
      "metadata": {
        "colab": {
          "base_uri": "https://localhost:8080/"
        },
        "id": "BKpQ-9N7TXDa",
        "outputId": "27825842-3033-4921-bb87-561843a1592b"
      },
      "source": [
        "train_data = tf.keras.preprocessing.image_dataset_from_directory(train_dir,\n",
        "                                                                 label_mode='categorical',\n",
        "                                                                 image_size = IMG_SIZE,\n",
        "                                                                 batch_size = BATCH_SIZE\n",
        "                                                                 )\n",
        "  \n",
        "test_data = tf.keras.preprocessing.image_dataset_from_directory(test_dir,\n",
        "                                                                label_mode = 'categorical',\n",
        "                                                                image_size = IMG_SIZE,\n",
        "                                                                batch_size = BATCH_SIZE\n",
        "                                                                )"
      ],
      "execution_count": null,
      "outputs": [
        {
          "output_type": "stream",
          "text": [
            "Found 8594 files belonging to 125 classes.\n",
            "Found 2108 files belonging to 125 classes.\n"
          ],
          "name": "stdout"
        }
      ]
    },
    {
      "cell_type": "markdown",
      "metadata": {
        "id": "LsakPv12Og_c"
      },
      "source": [
        "**Tensor Hub**\n",
        "\n",
        "> For this module, the size of the input image is flexible, but it would be best to match the model training input, which is height x width = 600 x 600 pixels for this model. The input images are expected to have color values in the range [0,1], following the common image input conventions.\n",
        "\n",
        "Fine-tuning\n",
        "\n",
        "https://tfhub.dev/tensorflow/efficientnet/b7/feature-vector/1"
      ]
    },
    {
      "cell_type": "code",
      "metadata": {
        "id": "p_F7p9tLOgoX"
      },
      "source": [
        "url_EfficientNet7 = 'https://tfhub.dev/tensorflow/efficientnet/b7/feature-vector/1'"
      ],
      "execution_count": null,
      "outputs": []
    },
    {
      "cell_type": "code",
      "metadata": {
        "id": "yLo2r6xmNltm"
      },
      "source": [
        "EfficientNet7_hub_model = create_model(url_EfficientNet7, IMG_SIZE, scale = True, trainable = False)"
      ],
      "execution_count": null,
      "outputs": []
    },
    {
      "cell_type": "code",
      "metadata": {
        "id": "574m5aaGrtRL",
        "colab": {
          "base_uri": "https://localhost:8080/"
        },
        "outputId": "bf919420-1af5-4079-ad0a-743111ef26ea"
      },
      "source": [
        "EfficientNet7_hub_model.summary()"
      ],
      "execution_count": null,
      "outputs": [
        {
          "output_type": "stream",
          "text": [
            "Model: \"sequential_1\"\n",
            "_________________________________________________________________\n",
            "Layer (type)                 Output Shape              Param #   \n",
            "=================================================================\n",
            "data_augmentation (Sequentia (None, 600, 600, 3)       0         \n",
            "_________________________________________________________________\n",
            "feature_extraction_layer (Ke (None, 2560)              64097680  \n",
            "_________________________________________________________________\n",
            "output_layer (Dense)         (None, 125)               320125    \n",
            "=================================================================\n",
            "Total params: 64,417,805\n",
            "Trainable params: 320,125\n",
            "Non-trainable params: 64,097,680\n",
            "_________________________________________________________________\n"
          ],
          "name": "stdout"
        }
      ]
    },
    {
      "cell_type": "code",
      "metadata": {
        "id": "-PQMGVU9P_jn"
      },
      "source": [
        "# Compilamos\n",
        "EfficientNet7_hub_model.compile(loss='categorical_crossentropy',\n",
        "                     optimizer=tf.keras.optimizers.Adam(),\n",
        "                     metrics=['accuracy'])"
      ],
      "execution_count": null,
      "outputs": []
    },
    {
      "cell_type": "code",
      "metadata": {
        "colab": {
          "base_uri": "https://localhost:8080/"
        },
        "id": "N57ycqbNQFE7",
        "outputId": "8227e3b1-0248-460c-de02-bbea53c7c73d"
      },
      "source": [
        "# Fit the model\n",
        "EfficientNet7_hub_history = EfficientNet7_hub_model.fit(train_data,\n",
        "                                          epochs=5,\n",
        "                                          steps_per_epoch=len(train_data),\n",
        "                                          validation_data=test_data,\n",
        "                                          validation_steps=len(test_data),\n",
        "                                          # Add TensorBoard callback to model (callbacks parameter takes a list)\n",
        "                                          callbacks=[create_tensorboard_callback(dir_name=\"tensorflow_hub\", # save experiment logs here\n",
        "                                                                                experiment_name=\"EfficientNet7_hub\")]) # name of log files"
      ],
      "execution_count": null,
      "outputs": [
        {
          "output_type": "stream",
          "text": [
            "Saving TensorBoard log files to: tensorflow_hub/EfficientNet7_hub/20210530-032803\n",
            "Epoch 1/5\n",
            "269/269 [==============================] - 2808s 10s/step - loss: 1.0858 - accuracy: 0.8593 - val_loss: 0.2259 - val_accuracy: 0.9492\n",
            "Epoch 2/5\n",
            "269/269 [==============================] - 927s 3s/step - loss: 0.1640 - accuracy: 0.9632 - val_loss: 0.1720 - val_accuracy: 0.9535\n",
            "Epoch 3/5\n",
            "269/269 [==============================] - 927s 3s/step - loss: 0.1111 - accuracy: 0.9737 - val_loss: 0.1613 - val_accuracy: 0.9554\n",
            "Epoch 4/5\n",
            "269/269 [==============================] - 927s 3s/step - loss: 0.0833 - accuracy: 0.9800 - val_loss: 0.1584 - val_accuracy: 0.9549\n",
            "Epoch 5/5\n",
            "269/269 [==============================] - 927s 3s/step - loss: 0.0657 - accuracy: 0.9831 - val_loss: 0.1558 - val_accuracy: 0.9568\n"
          ],
          "name": "stdout"
        }
      ]
    },
    {
      "cell_type": "code",
      "metadata": {
        "colab": {
          "base_uri": "https://localhost:8080/"
        },
        "id": "Zjt0PU8e1n9P",
        "outputId": "a2e2e24b-8d24-45f0-8603-c445d03c5d1a"
      },
      "source": [
        "EfficientNet7_hub_model.evaluate(test_data)"
      ],
      "execution_count": null,
      "outputs": [
        {
          "output_type": "stream",
          "text": [
            "66/66 [==============================] - 183s 3s/step - loss: 0.1558 - accuracy: 0.9568\n"
          ],
          "name": "stdout"
        },
        {
          "output_type": "execute_result",
          "data": {
            "text/plain": [
              "[0.15576839447021484, 0.9568310976028442]"
            ]
          },
          "metadata": {
            "tags": []
          },
          "execution_count": 28
        }
      ]
    },
    {
      "cell_type": "code",
      "metadata": {
        "id": "0-B8GBVp1ter"
      },
      "source": [
        "EfficientNet7_hub_model.save('EfficientNet7_hub.h5')"
      ],
      "execution_count": null,
      "outputs": []
    },
    {
      "cell_type": "code",
      "metadata": {
        "id": "YaKjKtGe1tSN"
      },
      "source": [
        "zip_folder('tensorflow_hub')"
      ],
      "execution_count": null,
      "outputs": []
    },
    {
      "cell_type": "markdown",
      "metadata": {
        "id": "HYlcNw9z1l0O"
      },
      "source": [
        "El mejor resultado hasta el momento!!"
      ]
    },
    {
      "cell_type": "markdown",
      "metadata": {
        "id": "OPysK89kQjsC"
      },
      "source": [
        "**Keras Applications**\n",
        "\n",
        "https://keras.io/api/applications/efficientnet/#efficientnetb7-function\n",
        "\n",
        "> For EfficientNet, input preprocessing is included as part of the model (as a Rescaling layer), and thus tf.keras.applications.efficientnet.preprocess_input is actually a pass-through function. EfficientNet models expect their inputs to be float tensors of pixels with values in the [0-255] range."
      ]
    },
    {
      "cell_type": "code",
      "metadata": {
        "id": "wCKN2pNZRSiy",
        "colab": {
          "base_uri": "https://localhost:8080/"
        },
        "outputId": "2c9a571a-dd90-42d9-ee74-a453c9dedba9"
      },
      "source": [
        "from tensorflow.keras.applications import EfficientNetB7\n",
        "from tensorflow.keras.applications.efficientnet import preprocess_input\n",
        "\n",
        "EfficientNet7_ka_model = create_model_application(EfficientNetB7, preprocess_input, IMG_SIZE, model_name = 'EfficientNet7')"
      ],
      "execution_count": null,
      "outputs": [
        {
          "output_type": "stream",
          "text": [
            "Downloading data from https://storage.googleapis.com/keras-applications/efficientnetb7_notop.h5\n",
            "258080768/258076736 [==============================] - 2s 0us/step\n",
            "dot: graph is too large for cairo-renderer bitmaps. Scaling by 0.414274 to fit\n",
            "\n"
          ],
          "name": "stdout"
        }
      ]
    },
    {
      "cell_type": "code",
      "metadata": {
        "id": "tczHTaWMSIeZ",
        "colab": {
          "base_uri": "https://localhost:8080/"
        },
        "outputId": "97810271-aebd-424a-f262-7e974eaf4200"
      },
      "source": [
        "EfficientNet7_ka_model.summary()"
      ],
      "execution_count": null,
      "outputs": [
        {
          "output_type": "stream",
          "text": [
            "Model: \"EfficientNet7\"\n",
            "_________________________________________________________________\n",
            "Layer (type)                 Output Shape              Param #   \n",
            "=================================================================\n",
            "Input_Layer (InputLayer)     [(None, 600, 600, 3)]     0         \n",
            "_________________________________________________________________\n",
            "efficientnetb7 (Functional)  (None, None, None, 2560)  64097687  \n",
            "_________________________________________________________________\n",
            "global_average_layer (Global (None, 2560)              0         \n",
            "_________________________________________________________________\n",
            "Output_Layer (Dense)         (None, 125)               320125    \n",
            "=================================================================\n",
            "Total params: 64,417,812\n",
            "Trainable params: 320,125\n",
            "Non-trainable params: 64,097,687\n",
            "_________________________________________________________________\n"
          ],
          "name": "stdout"
        }
      ]
    },
    {
      "cell_type": "code",
      "metadata": {
        "id": "0lxC3r5kSIg4",
        "colab": {
          "base_uri": "https://localhost:8080/"
        },
        "outputId": "51ccadf9-86ba-43ba-909d-52ba6046f9dd"
      },
      "source": [
        "# Fit \n",
        "EfficientNet7_ka_history = EfficientNet7_ka_model.fit(train_data,\n",
        "                                epochs=5,\n",
        "                                steps_per_epoch=len(train_data),\n",
        "                                validation_data=test_data,\n",
        "                                validation_steps=len(test_data),\n",
        "                                # Add TensorBoard callback to model (callbacks parameter takes a list)\n",
        "                                callbacks=[create_tensorboard_callback(dir_name=\"tensorflow_hub\", # save experiment logs here\n",
        "                                                                      experiment_name=\"EfficientNet_KA\")]) # name of log files"
      ],
      "execution_count": null,
      "outputs": [
        {
          "output_type": "stream",
          "text": [
            "Saving TensorBoard log files to: tensorflow_hub/EfficientNet_KA/20210530-183201\n"
          ],
          "name": "stdout"
        },
        {
          "output_type": "stream",
          "text": [
            "/usr/local/lib/python3.7/dist-packages/tensorflow/python/keras/utils/generic_utils.py:497: CustomMaskWarning: Custom mask layers require a config and must override get_config. When loading, the custom mask layer must be passed to the custom_objects argument.\n",
            "  category=CustomMaskWarning)\n"
          ],
          "name": "stderr"
        },
        {
          "output_type": "stream",
          "text": [
            "Epoch 1/5\n",
            "269/269 [==============================] - 2111s 8s/step - loss: 1.1452 - accuracy: 0.8480 - val_loss: 0.2516 - val_accuracy: 0.9407\n",
            "Epoch 2/5\n",
            "269/269 [==============================] - 952s 4s/step - loss: 0.1995 - accuracy: 0.9547 - val_loss: 0.1883 - val_accuracy: 0.9483\n",
            "Epoch 3/5\n",
            "269/269 [==============================] - 951s 4s/step - loss: 0.1407 - accuracy: 0.9637 - val_loss: 0.1737 - val_accuracy: 0.9492\n",
            "Epoch 4/5\n",
            "269/269 [==============================] - 951s 4s/step - loss: 0.1095 - accuracy: 0.9724 - val_loss: 0.1681 - val_accuracy: 0.9521\n",
            "Epoch 5/5\n",
            "269/269 [==============================] - 952s 4s/step - loss: 0.0896 - accuracy: 0.9761 - val_loss: 0.1649 - val_accuracy: 0.9554\n"
          ],
          "name": "stdout"
        }
      ]
    },
    {
      "cell_type": "code",
      "metadata": {
        "id": "ReRN2IJXSZ_N",
        "colab": {
          "base_uri": "https://localhost:8080/"
        },
        "outputId": "9bdd96da-554f-4baa-d741-20ecc793a7bf"
      },
      "source": [
        "EfficientNet7_ka_model.evaluate(test_data)"
      ],
      "execution_count": null,
      "outputs": [
        {
          "output_type": "stream",
          "text": [
            "66/66 [==============================] - 185s 3s/step - loss: 0.1649 - accuracy: 0.9554\n"
          ],
          "name": "stdout"
        },
        {
          "output_type": "execute_result",
          "data": {
            "text/plain": [
              "[0.16494086384773254, 0.955407977104187]"
            ]
          },
          "metadata": {
            "tags": []
          },
          "execution_count": 14
        }
      ]
    },
    {
      "cell_type": "code",
      "metadata": {
        "colab": {
          "base_uri": "https://localhost:8080/"
        },
        "id": "ZMlDk6lrHJ6j",
        "outputId": "b70d0b60-52f0-409a-b084-5267d489e02e"
      },
      "source": [
        "EfficientNet7_ka_model.save('EfficientNet7_ka.h5')"
      ],
      "execution_count": null,
      "outputs": [
        {
          "output_type": "stream",
          "text": [
            "/usr/local/lib/python3.7/dist-packages/tensorflow/python/keras/utils/generic_utils.py:497: CustomMaskWarning: Custom mask layers require a config and must override get_config. When loading, the custom mask layer must be passed to the custom_objects argument.\n",
            "  category=CustomMaskWarning)\n"
          ],
          "name": "stderr"
        }
      ]
    },
    {
      "cell_type": "code",
      "metadata": {
        "id": "xynFrJzpHPU-"
      },
      "source": [
        "zip_folder('/content/tensorflow_hub')"
      ],
      "execution_count": null,
      "outputs": []
    },
    {
      "cell_type": "code",
      "metadata": {
        "id": "C3lQzjbUHWGk"
      },
      "source": [
        ""
      ],
      "execution_count": null,
      "outputs": []
    },
    {
      "cell_type": "markdown",
      "metadata": {
        "id": "yV1xyYpH63n9"
      },
      "source": [
        "## InceptionResNetV2\n",
        "\n",
        "> Desde ahora solo ocupare un enfoque (TFHUB o Applications)\n",
        "\n",
        "| Model             | Size   | Top-1 Accuracy | Top-5 Accuracy | Parameters | Depth |\n",
        "|-------------------|--------|----------------|----------------|------------|-------|\n",
        "| InceptionResNetV2 | 215 MB | 0.803          | 0.953          | 55,873,736 | 572   |\n",
        "\n",
        "\n",
        "**Shape Requeriments**\n",
        "\n",
        "- `img_dim = 299x299`\n",
        "- `range_pixel = [-1,1]`"
      ]
    },
    {
      "cell_type": "markdown",
      "metadata": {
        "id": "Of02kudA9FOx"
      },
      "source": [
        "Data"
      ]
    },
    {
      "cell_type": "code",
      "metadata": {
        "id": "ySCGdd1a9GEK"
      },
      "source": [
        "IMG_SIZE = (299,299)\n",
        "NUM_CLASSES = 125\n",
        "BATCH_SIZE = 32"
      ],
      "execution_count": null,
      "outputs": []
    },
    {
      "cell_type": "code",
      "metadata": {
        "colab": {
          "base_uri": "https://localhost:8080/"
        },
        "id": "OVLA7N809JHz",
        "outputId": "28f302df-8414-4036-8766-a79b07d6d430"
      },
      "source": [
        "train_data = tf.keras.preprocessing.image_dataset_from_directory(train_dir,\n",
        "                                                                 label_mode='categorical',\n",
        "                                                                 image_size = IMG_SIZE,\n",
        "                                                                 batch_size = BATCH_SIZE\n",
        "                                                                 )\n",
        "  \n",
        "test_data = tf.keras.preprocessing.image_dataset_from_directory(test_dir,\n",
        "                                                                label_mode = 'categorical',\n",
        "                                                                image_size = IMG_SIZE,\n",
        "                                                                batch_size = BATCH_SIZE\n",
        "                                                                )"
      ],
      "execution_count": null,
      "outputs": [
        {
          "output_type": "stream",
          "text": [
            "Found 8594 files belonging to 125 classes.\n",
            "Found 2108 files belonging to 125 classes.\n"
          ],
          "name": "stdout"
        }
      ]
    },
    {
      "cell_type": "code",
      "metadata": {
        "colab": {
          "base_uri": "https://localhost:8080/"
        },
        "id": "EtcIW14V66GY",
        "outputId": "df12e92a-28ce-4965-8dde-f1ad14dcf9c6"
      },
      "source": [
        "from tensorflow.keras.applications import InceptionResNetV2\n",
        "from tensorflow.keras.applications.inception_resnet_v2 import preprocess_input\n",
        "\n",
        "InceptionResNetV2_model = create_model_application(InceptionResNetV2, preprocess_input, IMG_SIZE, model_name = 'InceptionResNetV2')"
      ],
      "execution_count": null,
      "outputs": [
        {
          "output_type": "stream",
          "text": [
            "dot: graph is too large for cairo-renderer bitmaps. Scaling by 0.591003 to fit\n",
            "\n"
          ],
          "name": "stdout"
        }
      ]
    },
    {
      "cell_type": "code",
      "metadata": {
        "colab": {
          "base_uri": "https://localhost:8080/"
        },
        "id": "TPc86YL281Rb",
        "outputId": "ae8856db-3492-47ce-c410-7bf1071a658c"
      },
      "source": [
        "InceptionResNetV2_model.summary()"
      ],
      "execution_count": null,
      "outputs": [
        {
          "output_type": "stream",
          "text": [
            "Model: \"InceptionResNetV2\"\n",
            "_________________________________________________________________\n",
            "Layer (type)                 Output Shape              Param #   \n",
            "=================================================================\n",
            "Input_Layer (InputLayer)     [(None, 299, 299, 3)]     0         \n",
            "_________________________________________________________________\n",
            "tf.math.truediv_2 (TFOpLambd (None, 299, 299, 3)       0         \n",
            "_________________________________________________________________\n",
            "tf.math.subtract_2 (TFOpLamb (None, 299, 299, 3)       0         \n",
            "_________________________________________________________________\n",
            "inception_resnet_v2 (Functio (None, None, None, 1536)  54336736  \n",
            "_________________________________________________________________\n",
            "global_average_layer (Global (None, 1536)              0         \n",
            "_________________________________________________________________\n",
            "Output_Layer (Dense)         (None, 125)               192125    \n",
            "=================================================================\n",
            "Total params: 54,528,861\n",
            "Trainable params: 192,125\n",
            "Non-trainable params: 54,336,736\n",
            "_________________________________________________________________\n"
          ],
          "name": "stdout"
        }
      ]
    },
    {
      "cell_type": "code",
      "metadata": {
        "colab": {
          "base_uri": "https://localhost:8080/"
        },
        "id": "0_gatFTO9k1H",
        "outputId": "05483e19-6886-4978-8013-0b3fab93512f"
      },
      "source": [
        "# Fit \n",
        "InceptionResNetV2_history = InceptionResNetV2_model.fit(train_data,\n",
        "                                epochs=5,\n",
        "                                steps_per_epoch=len(train_data),\n",
        "                                validation_data=test_data,\n",
        "                                validation_steps=len(test_data),\n",
        "                                # Add TensorBoard callback to model (callbacks parameter takes a list)\n",
        "                                callbacks=[create_tensorboard_callback(dir_name=\"tensorflow_hub\", # save experiment logs here\n",
        "                                                                      experiment_name=\"InceptionResNetV2\")]) # name of log files"
      ],
      "execution_count": null,
      "outputs": [
        {
          "output_type": "stream",
          "text": [
            "Saving TensorBoard log files to: tensorflow_hub/InceptionResNetV2/20210606-025726\n",
            "Epoch 1/5\n",
            "269/269 [==============================] - 1752s 6s/step - loss: 0.9546 - accuracy: 0.8290 - val_loss: 0.3354 - val_accuracy: 0.9075\n",
            "Epoch 2/5\n",
            "269/269 [==============================] - 144s 532ms/step - loss: 0.2489 - accuracy: 0.9239 - val_loss: 0.3158 - val_accuracy: 0.9046\n",
            "Epoch 3/5\n",
            "269/269 [==============================] - 144s 534ms/step - loss: 0.2040 - accuracy: 0.9359 - val_loss: 0.3111 - val_accuracy: 0.9108\n",
            "Epoch 4/5\n",
            "269/269 [==============================] - 144s 533ms/step - loss: 0.1719 - accuracy: 0.9450 - val_loss: 0.3105 - val_accuracy: 0.9137\n",
            "Epoch 5/5\n",
            "269/269 [==============================] - 144s 533ms/step - loss: 0.1535 - accuracy: 0.9514 - val_loss: 0.3244 - val_accuracy: 0.9075\n"
          ],
          "name": "stdout"
        }
      ]
    },
    {
      "cell_type": "code",
      "metadata": {
        "colab": {
          "base_uri": "https://localhost:8080/"
        },
        "id": "g3zNbTuF9u7c",
        "outputId": "77c8e669-3ac9-4291-9484-6f5e407be337"
      },
      "source": [
        "InceptionResNetV2_model.evaluate(test_data)"
      ],
      "execution_count": null,
      "outputs": [
        {
          "output_type": "stream",
          "text": [
            "66/66 [==============================] - 29s 426ms/step - loss: 0.3244 - accuracy: 0.9075\n"
          ],
          "name": "stdout"
        }
      ]
    },
    {
      "cell_type": "code",
      "metadata": {
        "id": "tuboDGSy96a5"
      },
      "source": [
        "InceptionResNetV2_model.save('InceptionResNetV2.h5')"
      ],
      "execution_count": null,
      "outputs": []
    },
    {
      "cell_type": "code",
      "metadata": {
        "id": "bK-zmD379_uz"
      },
      "source": [
        "zip_folder('/content/tensorflow_hub')"
      ],
      "execution_count": null,
      "outputs": []
    },
    {
      "cell_type": "markdown",
      "metadata": {
        "id": "toZ3teCRKEl8"
      },
      "source": [
        "## NasNetLarge\n",
        "\n",
        "https://keras.io/api/applications/nasnet/#nasnetlarge-function\n",
        "\n",
        "| Model             | Size   | Top-1 Accuracy | Top-5 Accuracy | Parameters | Depth |\n",
        "|-------------------|--------|----------------|----------------|------------|-------|\n",
        "| InceptionResNetV2 | 215 MB | 0.803          | 0.953          | 55,873,736 | 572   |\n",
        "\n",
        "**Input Shape Requeriments**\n",
        "\n",
        "- `img_dim = 331x331`\n",
        "\n"
      ]
    },
    {
      "cell_type": "code",
      "metadata": {
        "id": "02HLrPpmK-_s"
      },
      "source": [
        "IMG_SIZE = (331,331)\n",
        "NUM_CLASSES = 125\n",
        "BATCH_SIZE = 32"
      ],
      "execution_count": null,
      "outputs": []
    },
    {
      "cell_type": "code",
      "metadata": {
        "colab": {
          "base_uri": "https://localhost:8080/"
        },
        "id": "kiL87gegK-vD",
        "outputId": "28188516-5ee9-4901-fc69-5b74286b9084"
      },
      "source": [
        "train_data = tf.keras.preprocessing.image_dataset_from_directory(train_dir,\n",
        "                                                                 label_mode='categorical',\n",
        "                                                                 image_size = IMG_SIZE,\n",
        "                                                                 batch_size = BATCH_SIZE\n",
        "                                                                 )\n",
        "  \n",
        "test_data = tf.keras.preprocessing.image_dataset_from_directory(test_dir,\n",
        "                                                                label_mode = 'categorical',\n",
        "                                                                image_size = IMG_SIZE,\n",
        "                                                                batch_size = BATCH_SIZE\n",
        "                                                                )"
      ],
      "execution_count": null,
      "outputs": [
        {
          "output_type": "stream",
          "text": [
            "Found 8594 files belonging to 125 classes.\n",
            "Found 2108 files belonging to 125 classes.\n"
          ],
          "name": "stdout"
        }
      ]
    },
    {
      "cell_type": "code",
      "metadata": {
        "colab": {
          "base_uri": "https://localhost:8080/"
        },
        "id": "bJe-XfKDJDaA",
        "outputId": "dff5deed-4135-44ad-90a9-9e46a0a2a205"
      },
      "source": [
        "from tensorflow.keras.applications import NASNetLarge\n",
        "from tensorflow.keras.applications.nasnet import preprocess_input\n",
        "\n",
        "NasNetLarge_model = create_model_application(NASNetLarge, preprocess_input, IMG_SIZE, model_name = 'NasNetLarge')"
      ],
      "execution_count": null,
      "outputs": [
        {
          "output_type": "stream",
          "text": [
            "Downloading data from https://storage.googleapis.com/tensorflow/keras-applications/nasnet/NASNet-large-no-top.h5\n",
            "343613440/343610240 [==============================] - 3s 0us/step\n"
          ],
          "name": "stdout"
        }
      ]
    },
    {
      "cell_type": "code",
      "metadata": {
        "colab": {
          "base_uri": "https://localhost:8080/"
        },
        "id": "wlIjfD8bLb6j",
        "outputId": "1ce17470-3904-4a62-9001-0277151d2770"
      },
      "source": [
        "NasNetLarge_model.summary()"
      ],
      "execution_count": null,
      "outputs": [
        {
          "output_type": "stream",
          "text": [
            "Model: \"NasNetLarge\"\n",
            "_________________________________________________________________\n",
            "Layer (type)                 Output Shape              Param #   \n",
            "=================================================================\n",
            "Input_Layer (InputLayer)     [(None, 331, 331, 3)]     0         \n",
            "_________________________________________________________________\n",
            "tf.math.truediv_1 (TFOpLambd (None, 331, 331, 3)       0         \n",
            "_________________________________________________________________\n",
            "tf.math.subtract_1 (TFOpLamb (None, 331, 331, 3)       0         \n",
            "_________________________________________________________________\n",
            "NASNet (Functional)          (None, 11, 11, 4032)      84916818  \n",
            "_________________________________________________________________\n",
            "global_average_layer (Global (None, 4032)              0         \n",
            "_________________________________________________________________\n",
            "Output_Layer (Dense)         (None, 125)               504125    \n",
            "=================================================================\n",
            "Total params: 85,420,943\n",
            "Trainable params: 504,125\n",
            "Non-trainable params: 84,916,818\n",
            "_________________________________________________________________\n"
          ],
          "name": "stdout"
        }
      ]
    },
    {
      "cell_type": "code",
      "metadata": {
        "colab": {
          "base_uri": "https://localhost:8080/"
        },
        "id": "nA4rthvTLb3W",
        "outputId": "61cdeeab-7d98-450d-db06-e57f89e27bfb"
      },
      "source": [
        "# Fit \n",
        "NasNetLarge_history = NasNetLarge_model.fit(train_data,\n",
        "                                epochs=5,\n",
        "                                steps_per_epoch=len(train_data),\n",
        "                                validation_data=test_data,\n",
        "                                validation_steps=len(test_data),\n",
        "                                # Add TensorBoard callback to model (callbacks parameter takes a list)\n",
        "                                callbacks=[create_tensorboard_callback(dir_name=\"tensorflow_hub\", # save experiment logs here\n",
        "                                                                      experiment_name=\"NasNetLarge\")]) # name of log files"
      ],
      "execution_count": null,
      "outputs": [
        {
          "output_type": "stream",
          "text": [
            "Saving TensorBoard log files to: tensorflow_hub/NasNetLarge/20210602-052658\n"
          ],
          "name": "stdout"
        },
        {
          "output_type": "stream",
          "text": [
            "/usr/local/lib/python3.7/dist-packages/tensorflow/python/keras/utils/generic_utils.py:497: CustomMaskWarning: Custom mask layers require a config and must override get_config. When loading, the custom mask layer must be passed to the custom_objects argument.\n",
            "  category=CustomMaskWarning)\n"
          ],
          "name": "stderr"
        },
        {
          "output_type": "stream",
          "text": [
            "Epoch 1/5\n",
            "269/269 [==============================] - 372s 1s/step - loss: 0.6397 - accuracy: 0.8771 - val_loss: 0.2373 - val_accuracy: 0.9303\n",
            "Epoch 2/5\n",
            "269/269 [==============================] - 345s 1s/step - loss: 0.1411 - accuracy: 0.9578 - val_loss: 0.2310 - val_accuracy: 0.9355\n",
            "Epoch 3/5\n",
            "269/269 [==============================] - 345s 1s/step - loss: 0.0986 - accuracy: 0.9692 - val_loss: 0.2312 - val_accuracy: 0.9322\n",
            "Epoch 4/5\n",
            "269/269 [==============================] - 345s 1s/step - loss: 0.0754 - accuracy: 0.9754 - val_loss: 0.2365 - val_accuracy: 0.9326\n",
            "Epoch 5/5\n",
            "269/269 [==============================] - 345s 1s/step - loss: 0.0586 - accuracy: 0.9817 - val_loss: 0.2373 - val_accuracy: 0.9326\n"
          ],
          "name": "stdout"
        }
      ]
    },
    {
      "cell_type": "code",
      "metadata": {
        "colab": {
          "base_uri": "https://localhost:8080/"
        },
        "id": "7GrVc6szLb1u",
        "outputId": "c0bdea21-91d4-4e99-9777-837e3038d787"
      },
      "source": [
        "NasNetLarge_model.evaluate(test_data)"
      ],
      "execution_count": null,
      "outputs": [
        {
          "output_type": "stream",
          "text": [
            "66/66 [==============================] - 67s 1s/step - loss: 0.2373 - accuracy: 0.9326\n"
          ],
          "name": "stdout"
        },
        {
          "output_type": "execute_result",
          "data": {
            "text/plain": [
              "[0.23726095259189606, 0.9326375722885132]"
            ]
          },
          "metadata": {
            "tags": []
          },
          "execution_count": 22
        }
      ]
    },
    {
      "cell_type": "code",
      "metadata": {
        "colab": {
          "base_uri": "https://localhost:8080/"
        },
        "id": "cp-SERHsLbzD",
        "outputId": "374e2833-001f-46a8-d32c-e67f874b128a"
      },
      "source": [
        "NasNetLarge_model.save('NasNetLarge.h5')"
      ],
      "execution_count": null,
      "outputs": [
        {
          "output_type": "stream",
          "text": [
            "/usr/local/lib/python3.7/dist-packages/tensorflow/python/keras/utils/generic_utils.py:497: CustomMaskWarning: Custom mask layers require a config and must override get_config. When loading, the custom mask layer must be passed to the custom_objects argument.\n",
            "  category=CustomMaskWarning)\n"
          ],
          "name": "stderr"
        }
      ]
    },
    {
      "cell_type": "code",
      "metadata": {
        "id": "8QWi4j8-LrGg"
      },
      "source": [
        "zip_folder('/content/tensorflow_hub')"
      ],
      "execution_count": null,
      "outputs": []
    },
    {
      "cell_type": "code",
      "metadata": {
        "id": "b1GIYvVodAdF"
      },
      "source": [
        ""
      ],
      "execution_count": null,
      "outputs": []
    },
    {
      "cell_type": "markdown",
      "metadata": {
        "id": "qb8WEB40Jpen"
      },
      "source": [
        "# Resumen\n",
        "\n",
        "| Model Application | Train Loss | Train Accuracy | Val Loss | Val Accuracy |\n",
        "|-------------------|------------|----------------|----------|--------------|\n",
        "| EfficientNet7     | 0.0896     | 0.9761         | 0.1649   | 0.9554       |\n",
        "| NasNetLarge       | 0.0586     | 0.9817         | 0.2373   | 0.9326       |\n",
        "| InceptionResNetV2 | 0.1532     | 0.9496         | 0.3049   | 0.9141       |\n",
        "| Xception          | 0.1402     | 0.9629         | 0.3208   | 0.9004       |\n",
        "| InceptionV3       | 0.1101     | 0.9716         | 0.3670   | 0.8876       |\n",
        "| ResNet152V2       | 0.0825     | 0.9869         | 0.8418   | 0.7728       |\n",
        "\n",
        "\n",
        "EfficientNet consigue resultados bastante buenos por si solo, de hecho cada uno solo lo entrenamos por 5 epochs, no hicimos fine tuning, hyperparameter tuning, ni data augmentation. Lo que haré ahora será stackear los mejores 3 modelos y ver que resulta de eso"
      ]
    },
    {
      "cell_type": "markdown",
      "metadata": {
        "id": "SPfKpTgRMUxb"
      },
      "source": [
        "# Stack Models \n",
        "Se hará un stack entre EfficientNet7, NasNetLarge y InceptionResNetV2\n",
        "\n",
        "\n",
        "# Deberia ser algo asi\n",
        "input = inputlayer() \\\\\n",
        "x1 = efficientnet7()(input) \\\\\n",
        "x2 = nasnetlarge()(input) \\\\\n",
        "x3 = inceptionresnetv2()(input) \\\\\n",
        "x = concatenate([x1,x2,x3]) \\\\\n",
        "output = Dense(125)(x)\n",
        "\n",
        "Deberiamos hacerlo con la api funcional porque tenemos que concatenar layers\n",
        "\n"
      ]
    },
    {
      "cell_type": "code",
      "metadata": {
        "id": "OwrvlxTOrCTZ"
      },
      "source": [
        "from tensorflow.keras.applications import NASNetLarge\n",
        "from tensorflow.keras.applications.nasnet import preprocess_input as nasnet_preprocess\n",
        "\n",
        "from tensorflow.keras.applications import InceptionResNetV2\n",
        "from tensorflow.keras.applications.inception_resnet_v2 import preprocess_input as incresnet_preprocess\n",
        "\n",
        "from tensorflow.keras.applications import EfficientNetB7\n",
        "from tensorflow.keras.applications.efficientnet import preprocess_input as effnet7_preprocess\n",
        "\n"
      ],
      "execution_count": null,
      "outputs": []
    },
    {
      "cell_type": "markdown",
      "metadata": {
        "id": "yD7bNYUU0vFa"
      },
      "source": [
        "PARAMETROS"
      ]
    },
    {
      "cell_type": "code",
      "metadata": {
        "id": "8-B0FisjrlTH"
      },
      "source": [
        "NUM_CLASSES = 125\n",
        "BATCH_SIZE = 32\n",
        "IMG_SIZE = (299,299)\n",
        "EFFNET7_IMG_SIZE = (600,600)\n",
        "NASNET_IMG_SIZE = (331,331)\n",
        "INCRESNET_IMG_SIZE = (299,299)\n",
        "\n"
      ],
      "execution_count": null,
      "outputs": []
    },
    {
      "cell_type": "markdown",
      "metadata": {
        "id": "uPk_CqdH0wQ_"
      },
      "source": [
        "DATA"
      ]
    },
    {
      "cell_type": "code",
      "metadata": {
        "colab": {
          "base_uri": "https://localhost:8080/"
        },
        "id": "Q6C_SqzuFXrj",
        "outputId": "12009ca4-6af3-4fd8-d211-6bec65ce2ea3"
      },
      "source": [
        "train_data = tf.keras.preprocessing.image_dataset_from_directory(train_dir,\n",
        "                                                                 label_mode='categorical',\n",
        "                                                                 batch_size = BATCH_SIZE,\n",
        "                                                                 )\n",
        "  \n",
        "test_data = tf.keras.preprocessing.image_dataset_from_directory(test_dir,\n",
        "                                                                label_mode = 'categorical',\n",
        "                                                                batch_size = BATCH_SIZE\n",
        "                                                                )"
      ],
      "execution_count": null,
      "outputs": [
        {
          "output_type": "stream",
          "text": [
            "Found 8594 files belonging to 125 classes.\n",
            "Found 2108 files belonging to 125 classes.\n"
          ],
          "name": "stdout"
        }
      ]
    },
    {
      "cell_type": "code",
      "metadata": {
        "colab": {
          "base_uri": "https://localhost:8080/"
        },
        "id": "UPXl8V0Gx0rk",
        "outputId": "f4e807bc-e635-46f5-c2f1-320c4bb9eb8f"
      },
      "source": [
        "# base models\n",
        "\n",
        "effnet7_model = EfficientNetB7(include_top = False)\n",
        "effnet7_model.trainable = False\n",
        "\n",
        "nasnet_model = NASNetLarge(include_top = False)\n",
        "nasnet_model.trainable = False\n",
        "\n",
        "incresnet_model = InceptionResNetV2(include_top = False)\n",
        "incresnet_model.trainable = False\n",
        "\n",
        "input = tf.keras.layers.Input(shape = (256,256,3))\n",
        "\n",
        "# RESIZE LAYER\n",
        "\n",
        "input_effnet7 = tf.keras.layers.experimental.preprocessing.Resizing(EFFNET7_IMG_SIZE[0],EFFNET7_IMG_SIZE[1])(input)\n",
        "input_nasnet = tf.keras.layers.experimental.preprocessing.Resizing(NASNET_IMG_SIZE[0],NASNET_IMG_SIZE[1])(input)\n",
        "input_incresnet = tf.keras.layers.experimental.preprocessing.Resizing(INCRESNET_IMG_SIZE[0],INCRESNET_IMG_SIZE[1])(input)\n",
        "\n",
        "\n",
        "# EFFICIENT NET\n",
        "effnet7_input = effnet7_preprocess(input_effnet7)\n",
        "x_effnet7 = effnet7_model(effnet7_input)\n",
        "x_effnet7 = tf.keras.layers.GlobalAveragePooling2D(name = 'global_average_layer_effnet7')(x_effnet7)\n",
        "\n",
        "# NASNET LARGE\n",
        "nasnet_input = nasnet_preprocess(input_nasnet)\n",
        "x_nasnet = nasnet_model(nasnet_input)\n",
        "x_nasnet = tf.keras.layers.GlobalAveragePooling2D(name = 'global_average_layer_nasnet')(x_nasnet)\n",
        "\n",
        "# INCEPTION RES NET V2\n",
        "incresnet_input = incresnet_preprocess(input_incresnet)\n",
        "x_incresnet = incresnet_model(incresnet_input)\n",
        "x_incresnet = tf.keras.layers.GlobalAveragePooling2D(name = 'global_average_layer_incresnet')(x_incresnet)\n",
        "\n",
        "x = tf.keras.layers.concatenate([x_effnet7, x_nasnet, x_incresnet])\n",
        "\n",
        "output = tf.keras.layers.Dense(NUM_CLASSES, activation='softmax')(x)\n",
        "\n",
        "concatenate_model = tf.keras.Model(inputs=input, outputs = output)"
      ],
      "execution_count": null,
      "outputs": [
        {
          "output_type": "stream",
          "text": [
            "Downloading data from https://storage.googleapis.com/keras-applications/efficientnetb7_notop.h5\n",
            "258080768/258076736 [==============================] - 2s 0us/step\n",
            "Downloading data from https://storage.googleapis.com/tensorflow/keras-applications/nasnet/NASNet-large-no-top.h5\n",
            "343613440/343610240 [==============================] - 4s 0us/step\n",
            "Downloading data from https://storage.googleapis.com/tensorflow/keras-applications/inception_resnet_v2/inception_resnet_v2_weights_tf_dim_ordering_tf_kernels_notop.h5\n",
            "219062272/219055592 [==============================] - 2s 0us/step\n"
          ],
          "name": "stdout"
        }
      ]
    },
    {
      "cell_type": "code",
      "metadata": {
        "colab": {
          "base_uri": "https://localhost:8080/"
        },
        "id": "qUQI6Imqw2cs",
        "outputId": "e5e95bbf-eff8-4161-fd11-bcf5fbb33a0d"
      },
      "source": [
        "concatenate_model.summary()"
      ],
      "execution_count": null,
      "outputs": [
        {
          "output_type": "stream",
          "text": [
            "Model: \"model\"\n",
            "__________________________________________________________________________________________________\n",
            "Layer (type)                    Output Shape         Param #     Connected to                     \n",
            "==================================================================================================\n",
            "input_4 (InputLayer)            [(None, 256, 256, 3) 0                                            \n",
            "__________________________________________________________________________________________________\n",
            "resizing_1 (Resizing)           (None, 331, 331, 3)  0           input_4[0][0]                    \n",
            "__________________________________________________________________________________________________\n",
            "resizing_2 (Resizing)           (None, 299, 299, 3)  0           input_4[0][0]                    \n",
            "__________________________________________________________________________________________________\n",
            "tf.math.truediv (TFOpLambda)    (None, 331, 331, 3)  0           resizing_1[0][0]                 \n",
            "__________________________________________________________________________________________________\n",
            "tf.math.truediv_1 (TFOpLambda)  (None, 299, 299, 3)  0           resizing_2[0][0]                 \n",
            "__________________________________________________________________________________________________\n",
            "resizing (Resizing)             (None, 600, 600, 3)  0           input_4[0][0]                    \n",
            "__________________________________________________________________________________________________\n",
            "tf.math.subtract (TFOpLambda)   (None, 331, 331, 3)  0           tf.math.truediv[0][0]            \n",
            "__________________________________________________________________________________________________\n",
            "tf.math.subtract_1 (TFOpLambda) (None, 299, 299, 3)  0           tf.math.truediv_1[0][0]          \n",
            "__________________________________________________________________________________________________\n",
            "efficientnetb7 (Functional)     (None, None, None, 2 64097687    resizing[0][0]                   \n",
            "__________________________________________________________________________________________________\n",
            "NASNet (Functional)             (None, 11, 11, 4032) 84916818    tf.math.subtract[0][0]           \n",
            "__________________________________________________________________________________________________\n",
            "inception_resnet_v2 (Functional (None, None, None, 1 54336736    tf.math.subtract_1[0][0]         \n",
            "__________________________________________________________________________________________________\n",
            "global_average_layer_effnet7 (G (None, 2560)         0           efficientnetb7[0][0]             \n",
            "__________________________________________________________________________________________________\n",
            "global_average_layer_nasnet (Gl (None, 4032)         0           NASNet[0][0]                     \n",
            "__________________________________________________________________________________________________\n",
            "global_average_layer_incresnet  (None, 1536)         0           inception_resnet_v2[0][0]        \n",
            "__________________________________________________________________________________________________\n",
            "concatenate_4 (Concatenate)     (None, 8128)         0           global_average_layer_effnet7[0][0\n",
            "                                                                 global_average_layer_nasnet[0][0]\n",
            "                                                                 global_average_layer_incresnet[0]\n",
            "__________________________________________________________________________________________________\n",
            "dense (Dense)                   (None, 125)          1016125     concatenate_4[0][0]              \n",
            "==================================================================================================\n",
            "Total params: 204,367,366\n",
            "Trainable params: 1,016,125\n",
            "Non-trainable params: 203,351,241\n",
            "__________________________________________________________________________________________________\n"
          ],
          "name": "stdout"
        }
      ]
    },
    {
      "cell_type": "code",
      "metadata": {
        "colab": {
          "base_uri": "https://localhost:8080/",
          "height": 757
        },
        "id": "_wHbjcedzNiU",
        "outputId": "7569045e-d68d-4109-f3f3-5de3191d8513"
      },
      "source": [
        "from tensorflow.keras.utils import plot_model\n",
        "plot_model(concatenate_model)"
      ],
      "execution_count": null,
      "outputs": [
        {
          "output_type": "execute_result",
          "data": {
            "image/png": "[encoded data removed]",
            "text/plain": [
              "<IPython.core.display.Image object>"
            ]
          },
          "metadata": {
            "tags": []
          },
          "execution_count": 35
        }
      ]
    },
    {
      "cell_type": "markdown",
      "metadata": {
        "id": "ImswKYg30KvH"
      },
      "source": [
        "Es normal que el input de efficient net no haga nada, ya que este modelo pre entrenado no necesita mucha operacion, esto puede desprenderse de la documentación:\n",
        "> This method does nothing and only kept as a placeholder to align the API surface between old and new version of model.\n",
        "\n",
        "[preprocess input effnet documentation](https://www.tensorflow.org/api_docs/python/tf/keras/applications/efficientnet/preprocess_input)"
      ]
    },
    {
      "cell_type": "code",
      "metadata": {
        "id": "3EhkwOPCzWmH"
      },
      "source": [
        "concatenate_model.compile(loss='categorical_crossentropy',\n",
        "              optimizer=tf.keras.optimizers.Adam(),\n",
        "              metrics=[\"accuracy\"])"
      ],
      "execution_count": null,
      "outputs": []
    },
    {
      "cell_type": "code",
      "metadata": {
        "colab": {
          "base_uri": "https://localhost:8080/"
        },
        "id": "4e7lpyj50o9G",
        "outputId": "6972b4bb-899b-410a-9320-dccd9ccab369"
      },
      "source": [
        "concatenate_model.fit(train_data,\n",
        "                      epochs=5,\n",
        "                      steps_per_epoch=len(train_data),\n",
        "                      validation_data=test_data,\n",
        "                      validation_steps=len(test_data),\n",
        "                      # Add TensorBoard callback to model (callbacks parameter takes a list)\n",
        "                      callbacks=[create_tensorboard_callback(dir_name=\"tensorflow_hub\", # save experiment logs here\n",
        "                                                            experiment_name=\"Concatenate Arquitecture\")])"
      ],
      "execution_count": null,
      "outputs": [
        {
          "output_type": "stream",
          "text": [
            "Saving TensorBoard log files to: tensorflow_hub/Concatenate Arquitecture/20210605-004035\n"
          ],
          "name": "stdout"
        },
        {
          "output_type": "stream",
          "text": [
            "/usr/local/lib/python3.7/dist-packages/tensorflow/python/keras/utils/generic_utils.py:497: CustomMaskWarning: Custom mask layers require a config and must override get_config. When loading, the custom mask layer must be passed to the custom_objects argument.\n",
            "  category=CustomMaskWarning)\n"
          ],
          "name": "stderr"
        },
        {
          "output_type": "stream",
          "text": [
            "Epoch 1/5\n",
            "269/269 [==============================] - 3385s 12s/step - loss: 0.5225 - accuracy: 0.8838 - val_loss: 0.2647 - val_accuracy: 0.9274\n",
            "Epoch 2/5\n",
            "269/269 [==============================] - 1399s 5s/step - loss: 0.1281 - accuracy: 0.9578 - val_loss: 0.2674 - val_accuracy: 0.9231\n",
            "Epoch 3/5\n",
            "269/269 [==============================] - 1399s 5s/step - loss: 0.0793 - accuracy: 0.9727 - val_loss: 0.2627 - val_accuracy: 0.9303\n",
            "Epoch 4/5\n",
            "269/269 [==============================] - 1398s 5s/step - loss: 0.0571 - accuracy: 0.9814 - val_loss: 0.2875 - val_accuracy: 0.9265\n",
            "Epoch 5/5\n",
            "269/269 [==============================] - 1399s 5s/step - loss: 0.0406 - accuracy: 0.9877 - val_loss: 0.2709 - val_accuracy: 0.9355\n"
          ],
          "name": "stdout"
        },
        {
          "output_type": "execute_result",
          "data": {
            "text/plain": [
              "<tensorflow.python.keras.callbacks.History at 0x7ffa65d54b50>"
            ]
          },
          "metadata": {
            "tags": []
          },
          "execution_count": 12
        }
      ]
    },
    {
      "cell_type": "code",
      "metadata": {
        "colab": {
          "base_uri": "https://localhost:8080/"
        },
        "id": "Crocp28ScoWU",
        "outputId": "b111dd75-2cad-4c3a-9f0c-3ab8035e88ba"
      },
      "source": [
        "concatenate_model.evaluate(test_data)"
      ],
      "execution_count": null,
      "outputs": [
        {
          "output_type": "stream",
          "text": [
            "66/66 [==============================] - 272s 4s/step - loss: 0.2709 - accuracy: 0.9355\n"
          ],
          "name": "stdout"
        },
        {
          "output_type": "execute_result",
          "data": {
            "text/plain": [
              "[0.27093568444252014, 0.9354838728904724]"
            ]
          },
          "metadata": {
            "tags": []
          },
          "execution_count": 13
        }
      ]
    },
    {
      "cell_type": "markdown",
      "metadata": {
        "id": "0eER6DFBM4nn"
      },
      "source": [
        "No es mejor que efficientNet7, pero puede que generalice mejor asi que lo guardaremos."
      ]
    },
    {
      "cell_type": "code",
      "metadata": {
        "colab": {
          "base_uri": "https://localhost:8080/"
        },
        "id": "a0ePk4BTLvLl",
        "outputId": "794c3155-beb7-4eb7-b16e-02ae3396f102"
      },
      "source": [
        "concatenate_model.save('concatenate_model.h5')"
      ],
      "execution_count": null,
      "outputs": [
        {
          "output_type": "stream",
          "text": [
            "/usr/local/lib/python3.7/dist-packages/tensorflow/python/keras/utils/generic_utils.py:497: CustomMaskWarning: Custom mask layers require a config and must override get_config. When loading, the custom mask layer must be passed to the custom_objects argument.\n",
            "  category=CustomMaskWarning)\n"
          ],
          "name": "stderr"
        }
      ]
    },
    {
      "cell_type": "code",
      "metadata": {
        "id": "09vfW7n3OMnU"
      },
      "source": [
        "zip_folder('tensorflow_hub')"
      ],
      "execution_count": null,
      "outputs": []
    },
    {
      "cell_type": "markdown",
      "metadata": {
        "id": "vKDNW-fX1awA"
      },
      "source": [
        "Lo que haremos ahora, será primero hacer un pequeño fine tuning de este nuevo modelo, el lado negativo es que toma mucho tiempo ejecutar cada epoch, pero el tiempo puede valer la pena, hasta ahora el mejor resultado que tenemos es EfficientNet7 con un 95%. Intentemos superar esto.\n",
        "\n",
        "**Ideas**\n",
        "- Fine Tuning\n",
        "- Data Augmentation\n",
        "- Callbacks\n",
        "- Optimizadores \n",
        "- Revisar Shuffle = True\n",
        "\n",
        "Si no mejoramos el 95%, habremos aprendido a hacer muchas cosas, y podemos intentar:\n",
        "\n",
        "- Fine Tuning EfficentNet7\n",
        "- Data Agumentation EfficientNet7\n",
        "- etc..."
      ]
    },
    {
      "cell_type": "markdown",
      "metadata": {
        "id": "AEBKdlw_MptA"
      },
      "source": [
        "## Fine Tune"
      ]
    },
    {
      "cell_type": "code",
      "metadata": {
        "id": "4s5PzxXfPcTD"
      },
      "source": [
        "# Este modelo ya lo entrenamos\n",
        "model = tf.keras.models.load_model('/content/drive/MyDrive/Colab Data/Proyecto buscomiperro/modelos/concatenate_model.h5')"
      ],
      "execution_count": null,
      "outputs": []
    },
    {
      "cell_type": "code",
      "metadata": {
        "colab": {
          "base_uri": "https://localhost:8080/"
        },
        "id": "ztccoWDCKndn",
        "outputId": "800e46b0-12cb-4587-e187-1246e439ce71"
      },
      "source": [
        "# Veamos cuantos parametros se estan entrenando por ahora\n",
        "model.summary()"
      ],
      "execution_count": null,
      "outputs": [
        {
          "output_type": "stream",
          "text": [
            "Model: \"model\"\n",
            "__________________________________________________________________________________________________\n",
            "Layer (type)                    Output Shape         Param #     Connected to                     \n",
            "==================================================================================================\n",
            "input_4 (InputLayer)            [(None, 256, 256, 3) 0                                            \n",
            "__________________________________________________________________________________________________\n",
            "resizing_1 (Resizing)           (None, 331, 331, 3)  0           input_4[0][0]                    \n",
            "__________________________________________________________________________________________________\n",
            "resizing_2 (Resizing)           (None, 299, 299, 3)  0           input_4[0][0]                    \n",
            "__________________________________________________________________________________________________\n",
            "tf.math.truediv (TFOpLambda)    (None, 331, 331, 3)  0           resizing_1[0][0]                 \n",
            "__________________________________________________________________________________________________\n",
            "tf.math.truediv_1 (TFOpLambda)  (None, 299, 299, 3)  0           resizing_2[0][0]                 \n",
            "__________________________________________________________________________________________________\n",
            "resizing (Resizing)             (None, 600, 600, 3)  0           input_4[0][0]                    \n",
            "__________________________________________________________________________________________________\n",
            "tf.math.subtract (TFOpLambda)   (None, 331, 331, 3)  0           tf.math.truediv[0][0]            \n",
            "__________________________________________________________________________________________________\n",
            "tf.math.subtract_1 (TFOpLambda) (None, 299, 299, 3)  0           tf.math.truediv_1[0][0]          \n",
            "__________________________________________________________________________________________________\n",
            "efficientnetb7 (Functional)     (None, None, None, 2 64097687    resizing[0][0]                   \n",
            "__________________________________________________________________________________________________\n",
            "NASNet (Functional)             (None, 11, 11, 4032) 84916818    tf.math.subtract[0][0]           \n",
            "__________________________________________________________________________________________________\n",
            "inception_resnet_v2 (Functional (None, None, None, 1 54336736    tf.math.subtract_1[0][0]         \n",
            "__________________________________________________________________________________________________\n",
            "global_average_layer_effnet7 (G (None, 2560)         0           efficientnetb7[0][0]             \n",
            "__________________________________________________________________________________________________\n",
            "global_average_layer_nasnet (Gl (None, 4032)         0           NASNet[0][0]                     \n",
            "__________________________________________________________________________________________________\n",
            "global_average_layer_incresnet  (None, 1536)         0           inception_resnet_v2[0][0]        \n",
            "__________________________________________________________________________________________________\n",
            "concatenate_4 (Concatenate)     (None, 8128)         0           global_average_layer_effnet7[0][0\n",
            "                                                                 global_average_layer_nasnet[0][0]\n",
            "                                                                 global_average_layer_incresnet[0]\n",
            "__________________________________________________________________________________________________\n",
            "dense (Dense)                   (None, 125)          1016125     concatenate_4[0][0]              \n",
            "==================================================================================================\n",
            "Total params: 204,367,366\n",
            "Trainable params: 1,016,125\n",
            "Non-trainable params: 203,351,241\n",
            "__________________________________________________________________________________________________\n"
          ],
          "name": "stdout"
        }
      ]
    },
    {
      "cell_type": "code",
      "metadata": {
        "colab": {
          "base_uri": "https://localhost:8080/"
        },
        "id": "sTK_x2ouLNAv",
        "outputId": "39409c8e-f3d2-4567-8e6d-722acd37e8ff"
      },
      "source": [
        "from keras.utils.layer_utils import count_params\n",
        "p = count_params(model.trainable_weights)\n",
        "print(f\"Se entrenaron {p} parámetros\")"
      ],
      "execution_count": null,
      "outputs": [
        {
          "output_type": "stream",
          "text": [
            "Se entrenaron 1016125 parámetros\n"
          ],
          "name": "stdout"
        }
      ]
    },
    {
      "cell_type": "markdown",
      "metadata": {
        "id": "0IaITMzNPpYz"
      },
      "source": [
        "Hay que descongelar los pesos de cada modelo, veamos cuantos layers tiene cada uno"
      ]
    },
    {
      "cell_type": "code",
      "metadata": {
        "id": "vMo1P0_DL_ZD"
      },
      "source": [
        "efficient_layer = model.layers[8]\n",
        "nasnet_layer = model.layers[9]\n",
        "incresnet_layer = model.layers[10]"
      ],
      "execution_count": null,
      "outputs": []
    },
    {
      "cell_type": "code",
      "metadata": {
        "colab": {
          "base_uri": "https://localhost:8080/"
        },
        "id": "ungVn7tfQCsP",
        "outputId": "a10fcf14-6010-43ca-f4e6-c8834debfbce"
      },
      "source": [
        "print(f\"EfficientNet7 tiene {len(efficient_layer.layers)} layers\")\n",
        "print(f\"NasNet Large tiene {len(nasnet_layer.layers)} layers\")\n",
        "print(f\"Inception ResNet tiene {len(incresnet_layer.layers)} layers\")"
      ],
      "execution_count": null,
      "outputs": [
        {
          "output_type": "stream",
          "text": [
            "EfficientNet7 tiene 813 layers\n",
            "NasNet Large tiene 1039 layers\n",
            "Inception ResNet tiene 780 layers\n"
          ],
          "name": "stdout"
        }
      ]
    },
    {
      "cell_type": "markdown",
      "metadata": {
        "id": "e8Z9hsS2Q2GW"
      },
      "source": [
        "Hay que tener en cuenta que las capas superiores son las que extraen patrones más complejos, por lo que lo ideal seria descongelar estas. Voy a intentar descongelar el 10% superior de cada modelo"
      ]
    },
    {
      "cell_type": "code",
      "metadata": {
        "colab": {
          "base_uri": "https://localhost:8080/"
        },
        "id": "5SKASu91QFd_",
        "outputId": "ccb471fc-ad9d-4966-cef8-1f2792635469"
      },
      "source": [
        "# Antes veamos que no se esten entrenando parametros en estos modelos pre entrenados\n",
        "print(efficient_layer.trainable_weights)\n",
        "print(nasnet_layer.trainable_weights)\n",
        "print(incresnet_layer.trainable_weights)"
      ],
      "execution_count": null,
      "outputs": [
        {
          "output_type": "stream",
          "text": [
            "[]\n",
            "[]\n",
            "[]\n"
          ],
          "name": "stdout"
        }
      ]
    },
    {
      "cell_type": "code",
      "metadata": {
        "id": "oXT-LyPOT8oV"
      },
      "source": [
        "def unfreeze_layers(functional_layer, p):\n",
        "  \"\"\"\"\n",
        "  Función que descongela las últimas p porciento de las capas\n",
        "\n",
        "  Args:\n",
        "  functional_layer : modelo pre entrenado\n",
        "  p : porcentaje a descongelar\n",
        "\n",
        "  Return:\n",
        "  None\n",
        "  \"\"\"\n",
        "\n",
        " \n",
        "\n",
        "  # Descongelamos todas\n",
        "  functional_layer.trainable = True\n",
        "  num_trainable_layers = int(p*(len(functional_layer.layers)))\n",
        "\n",
        "  \n",
        "  #Freezeamos todas menos las ultimas p% capas\n",
        "  for layer in functional_layer.layers[:-num_trainable_layers]:\n",
        "    layer.trainable = False\n",
        "\n",
        "  count = 0\n",
        "  # Veamos ahora cuantas descongelamos\n",
        "  for layer in functional_layer.layers:\n",
        "    if layer.trainable == True:\n",
        "      count += 1\n",
        "\n",
        "  print(f\"se han descongelado {count} layers\")\n",
        "  \n",
        "\n",
        "  \n"
      ],
      "execution_count": null,
      "outputs": []
    },
    {
      "cell_type": "code",
      "metadata": {
        "colab": {
          "base_uri": "https://localhost:8080/"
        },
        "id": "luoFzKJ0XLXi",
        "outputId": "7c20d642-f8fa-470c-d8a0-9c04ecec051e"
      },
      "source": [
        "unfreeze_layers(efficient_layer, 0.1)"
      ],
      "execution_count": null,
      "outputs": [
        {
          "output_type": "stream",
          "text": [
            "se han descongelado 81 layers\n"
          ],
          "name": "stdout"
        }
      ]
    },
    {
      "cell_type": "code",
      "metadata": {
        "colab": {
          "base_uri": "https://localhost:8080/"
        },
        "id": "LT66wbOVXPhI",
        "outputId": "4df9f360-0cdc-4085-f3fe-dd58676f17d2"
      },
      "source": [
        "unfreeze_layers(nasnet_layer, 0.1)"
      ],
      "execution_count": null,
      "outputs": [
        {
          "output_type": "stream",
          "text": [
            "se han descongelado 103 layers\n"
          ],
          "name": "stdout"
        }
      ]
    },
    {
      "cell_type": "code",
      "metadata": {
        "colab": {
          "base_uri": "https://localhost:8080/"
        },
        "id": "un17tvpoXVtr",
        "outputId": "a91304ea-d99b-45ec-cd47-43dfba7493b0"
      },
      "source": [
        "unfreeze_layers(incresnet_layer, 0.1)"
      ],
      "execution_count": null,
      "outputs": [
        {
          "output_type": "stream",
          "text": [
            "se han descongelado 78 layers\n"
          ],
          "name": "stdout"
        }
      ]
    },
    {
      "cell_type": "code",
      "metadata": {
        "colab": {
          "base_uri": "https://localhost:8080/"
        },
        "id": "B-gk3VLWXar6",
        "outputId": "908bbeb3-8ed7-41f7-e520-4c02adc7491b"
      },
      "source": [
        "# Aseguremonos de que haya surtido efecto en el modelo general\n",
        "count_params(model.trainable_weights)"
      ],
      "execution_count": null,
      "outputs": [
        {
          "output_type": "execute_result",
          "data": {
            "text/plain": [
              "60213469"
            ]
          },
          "metadata": {
            "tags": []
          },
          "execution_count": 80
        }
      ]
    },
    {
      "cell_type": "code",
      "metadata": {
        "colab": {
          "base_uri": "https://localhost:8080/"
        },
        "id": "YONqXzoGXkxA",
        "outputId": "8f3fbd41-3589-4348-d03e-c6b36e1c66f3"
      },
      "source": [
        "model.summary()"
      ],
      "execution_count": null,
      "outputs": [
        {
          "output_type": "stream",
          "text": [
            "Model: \"model\"\n",
            "__________________________________________________________________________________________________\n",
            "Layer (type)                    Output Shape         Param #     Connected to                     \n",
            "==================================================================================================\n",
            "input_4 (InputLayer)            [(None, 256, 256, 3) 0                                            \n",
            "__________________________________________________________________________________________________\n",
            "resizing_1 (Resizing)           (None, 331, 331, 3)  0           input_4[0][0]                    \n",
            "__________________________________________________________________________________________________\n",
            "resizing_2 (Resizing)           (None, 299, 299, 3)  0           input_4[0][0]                    \n",
            "__________________________________________________________________________________________________\n",
            "tf.math.truediv (TFOpLambda)    (None, 331, 331, 3)  0           resizing_1[0][0]                 \n",
            "__________________________________________________________________________________________________\n",
            "tf.math.truediv_1 (TFOpLambda)  (None, 299, 299, 3)  0           resizing_2[0][0]                 \n",
            "__________________________________________________________________________________________________\n",
            "resizing (Resizing)             (None, 600, 600, 3)  0           input_4[0][0]                    \n",
            "__________________________________________________________________________________________________\n",
            "tf.math.subtract (TFOpLambda)   (None, 331, 331, 3)  0           tf.math.truediv[0][0]            \n",
            "__________________________________________________________________________________________________\n",
            "tf.math.subtract_1 (TFOpLambda) (None, 299, 299, 3)  0           tf.math.truediv_1[0][0]          \n",
            "__________________________________________________________________________________________________\n",
            "efficientnetb7 (Functional)     (None, None, None, 2 64097687    resizing[0][0]                   \n",
            "__________________________________________________________________________________________________\n",
            "NASNet (Functional)             (None, 11, 11, 4032) 84916818    tf.math.subtract[0][0]           \n",
            "__________________________________________________________________________________________________\n",
            "inception_resnet_v2 (Functional (None, None, None, 1 54336736    tf.math.subtract_1[0][0]         \n",
            "__________________________________________________________________________________________________\n",
            "global_average_layer_effnet7 (G (None, 2560)         0           efficientnetb7[0][0]             \n",
            "__________________________________________________________________________________________________\n",
            "global_average_layer_nasnet (Gl (None, 4032)         0           NASNet[0][0]                     \n",
            "__________________________________________________________________________________________________\n",
            "global_average_layer_incresnet  (None, 1536)         0           inception_resnet_v2[0][0]        \n",
            "__________________________________________________________________________________________________\n",
            "concatenate_4 (Concatenate)     (None, 8128)         0           global_average_layer_effnet7[0][0\n",
            "                                                                 global_average_layer_nasnet[0][0]\n",
            "                                                                 global_average_layer_incresnet[0]\n",
            "__________________________________________________________________________________________________\n",
            "dense (Dense)                   (None, 125)          1016125     concatenate_4[0][0]              \n",
            "==================================================================================================\n",
            "Total params: 204,367,366\n",
            "Trainable params: 60,213,469\n",
            "Non-trainable params: 144,153,897\n",
            "__________________________________________________________________________________________________\n"
          ],
          "name": "stdout"
        }
      ]
    },
    {
      "cell_type": "markdown",
      "metadata": {
        "id": "XkAG9aEZXrji"
      },
      "source": [
        "FIUUUU, tendremos que ajustar aproximadamente 59 millones más de parámetros!!!!\n",
        "\n",
        "Vamos a intentar fitear este modelo, si se demora mucho, tendremos que optar por simplemente tunear EfficientNet7. \n",
        "Recordar que Keras salva modelos inspeccionando sus arquitecturas. Esta técnica lo salva todo:\n",
        "\n",
        "- Los valores de peso\n",
        "- La arquitectura del modelo\n",
        "- La configuración de entrenamiento del modelo (lo que pasa al método .compile() )\n",
        "- El optimizador y su estado, si lo hay (esto le permite reiniciar el entrenamiento donde lo dejó)\n",
        "\n",
        "Por lo que solo tenemos que hacer el `model.fit()`"
      ]
    },
    {
      "cell_type": "code",
      "metadata": {
        "id": "FgFGcWsCXq5d",
        "colab": {
          "base_uri": "https://localhost:8080/"
        },
        "outputId": "285528ac-9e39-4785-d6b6-08a807c654a8"
      },
      "source": [
        "model.fit(train_data,\n",
        "          epochs=5,\n",
        "          steps_per_epoch=len(train_data),\n",
        "          validation_data=test_data,\n",
        "          validation_steps=len(test_data))"
      ],
      "execution_count": null,
      "outputs": [
        {
          "output_type": "stream",
          "text": [
            "Epoch 1/5\n",
            "269/269 [==============================] - 2512s 9s/step - loss: 0.0352 - accuracy: 0.9893 - val_loss: 0.2868 - val_accuracy: 0.9279\n",
            "Epoch 2/5\n",
            "269/269 [==============================] - 1310s 5s/step - loss: 0.0305 - accuracy: 0.9896 - val_loss: 0.3025 - val_accuracy: 0.9307\n",
            "Epoch 3/5\n",
            " 10/269 [>.............................] - ETA: 17:14 - loss: 0.0250 - accuracy: 0.9875"
          ],
          "name": "stdout"
        },
        {
          "output_type": "error",
          "ename": "KeyboardInterrupt",
          "evalue": "ignored",
          "traceback": [
            "\u001b[0;31m---------------------------------------------------------------------------\u001b[0m",
            "\u001b[0;31mKeyboardInterrupt\u001b[0m                         Traceback (most recent call last)",
            "\u001b[0;32m<ipython-input-21-523d991a67ce>\u001b[0m in \u001b[0;36m<module>\u001b[0;34m()\u001b[0m\n\u001b[1;32m      3\u001b[0m           \u001b[0msteps_per_epoch\u001b[0m\u001b[0;34m=\u001b[0m\u001b[0mlen\u001b[0m\u001b[0;34m(\u001b[0m\u001b[0mtrain_data\u001b[0m\u001b[0;34m)\u001b[0m\u001b[0;34m,\u001b[0m\u001b[0;34m\u001b[0m\u001b[0;34m\u001b[0m\u001b[0m\n\u001b[1;32m      4\u001b[0m           \u001b[0mvalidation_data\u001b[0m\u001b[0;34m=\u001b[0m\u001b[0mtest_data\u001b[0m\u001b[0;34m,\u001b[0m\u001b[0;34m\u001b[0m\u001b[0;34m\u001b[0m\u001b[0m\n\u001b[0;32m----> 5\u001b[0;31m           validation_steps=len(test_data))\n\u001b[0m",
            "\u001b[0;32m/usr/local/lib/python3.7/dist-packages/tensorflow/python/keras/engine/training.py\u001b[0m in \u001b[0;36mfit\u001b[0;34m(self, x, y, batch_size, epochs, verbose, callbacks, validation_split, validation_data, shuffle, class_weight, sample_weight, initial_epoch, steps_per_epoch, validation_steps, validation_batch_size, validation_freq, max_queue_size, workers, use_multiprocessing)\u001b[0m\n\u001b[1;32m   1181\u001b[0m                 _r=1):\n\u001b[1;32m   1182\u001b[0m               \u001b[0mcallbacks\u001b[0m\u001b[0;34m.\u001b[0m\u001b[0mon_train_batch_begin\u001b[0m\u001b[0;34m(\u001b[0m\u001b[0mstep\u001b[0m\u001b[0;34m)\u001b[0m\u001b[0;34m\u001b[0m\u001b[0;34m\u001b[0m\u001b[0m\n\u001b[0;32m-> 1183\u001b[0;31m               \u001b[0mtmp_logs\u001b[0m \u001b[0;34m=\u001b[0m \u001b[0mself\u001b[0m\u001b[0;34m.\u001b[0m\u001b[0mtrain_function\u001b[0m\u001b[0;34m(\u001b[0m\u001b[0miterator\u001b[0m\u001b[0;34m)\u001b[0m\u001b[0;34m\u001b[0m\u001b[0;34m\u001b[0m\u001b[0m\n\u001b[0m\u001b[1;32m   1184\u001b[0m               \u001b[0;32mif\u001b[0m \u001b[0mdata_handler\u001b[0m\u001b[0;34m.\u001b[0m\u001b[0mshould_sync\u001b[0m\u001b[0;34m:\u001b[0m\u001b[0;34m\u001b[0m\u001b[0;34m\u001b[0m\u001b[0m\n\u001b[1;32m   1185\u001b[0m                 \u001b[0mcontext\u001b[0m\u001b[0;34m.\u001b[0m\u001b[0masync_wait\u001b[0m\u001b[0;34m(\u001b[0m\u001b[0;34m)\u001b[0m\u001b[0;34m\u001b[0m\u001b[0;34m\u001b[0m\u001b[0m\n",
            "\u001b[0;32m/usr/local/lib/python3.7/dist-packages/tensorflow/python/eager/def_function.py\u001b[0m in \u001b[0;36m__call__\u001b[0;34m(self, *args, **kwds)\u001b[0m\n\u001b[1;32m    887\u001b[0m \u001b[0;34m\u001b[0m\u001b[0m\n\u001b[1;32m    888\u001b[0m       \u001b[0;32mwith\u001b[0m \u001b[0mOptionalXlaContext\u001b[0m\u001b[0;34m(\u001b[0m\u001b[0mself\u001b[0m\u001b[0;34m.\u001b[0m\u001b[0m_jit_compile\u001b[0m\u001b[0;34m)\u001b[0m\u001b[0;34m:\u001b[0m\u001b[0;34m\u001b[0m\u001b[0;34m\u001b[0m\u001b[0m\n\u001b[0;32m--> 889\u001b[0;31m         \u001b[0mresult\u001b[0m \u001b[0;34m=\u001b[0m \u001b[0mself\u001b[0m\u001b[0;34m.\u001b[0m\u001b[0m_call\u001b[0m\u001b[0;34m(\u001b[0m\u001b[0;34m*\u001b[0m\u001b[0margs\u001b[0m\u001b[0;34m,\u001b[0m \u001b[0;34m**\u001b[0m\u001b[0mkwds\u001b[0m\u001b[0;34m)\u001b[0m\u001b[0;34m\u001b[0m\u001b[0;34m\u001b[0m\u001b[0m\n\u001b[0m\u001b[1;32m    890\u001b[0m \u001b[0;34m\u001b[0m\u001b[0m\n\u001b[1;32m    891\u001b[0m       \u001b[0mnew_tracing_count\u001b[0m \u001b[0;34m=\u001b[0m \u001b[0mself\u001b[0m\u001b[0;34m.\u001b[0m\u001b[0mexperimental_get_tracing_count\u001b[0m\u001b[0;34m(\u001b[0m\u001b[0;34m)\u001b[0m\u001b[0;34m\u001b[0m\u001b[0;34m\u001b[0m\u001b[0m\n",
            "\u001b[0;32m/usr/local/lib/python3.7/dist-packages/tensorflow/python/eager/def_function.py\u001b[0m in \u001b[0;36m_call\u001b[0;34m(self, *args, **kwds)\u001b[0m\n\u001b[1;32m    922\u001b[0m       \u001b[0;31m# In this case we have not created variables on the first call. So we can\u001b[0m\u001b[0;34m\u001b[0m\u001b[0;34m\u001b[0m\u001b[0;34m\u001b[0m\u001b[0m\n\u001b[1;32m    923\u001b[0m       \u001b[0;31m# run the first trace but we should fail if variables are created.\u001b[0m\u001b[0;34m\u001b[0m\u001b[0;34m\u001b[0m\u001b[0;34m\u001b[0m\u001b[0m\n\u001b[0;32m--> 924\u001b[0;31m       \u001b[0mresults\u001b[0m \u001b[0;34m=\u001b[0m \u001b[0mself\u001b[0m\u001b[0;34m.\u001b[0m\u001b[0m_stateful_fn\u001b[0m\u001b[0;34m(\u001b[0m\u001b[0;34m*\u001b[0m\u001b[0margs\u001b[0m\u001b[0;34m,\u001b[0m \u001b[0;34m**\u001b[0m\u001b[0mkwds\u001b[0m\u001b[0;34m)\u001b[0m\u001b[0;34m\u001b[0m\u001b[0;34m\u001b[0m\u001b[0m\n\u001b[0m\u001b[1;32m    925\u001b[0m       \u001b[0;32mif\u001b[0m \u001b[0mself\u001b[0m\u001b[0;34m.\u001b[0m\u001b[0m_created_variables\u001b[0m\u001b[0;34m:\u001b[0m\u001b[0;34m\u001b[0m\u001b[0;34m\u001b[0m\u001b[0m\n\u001b[1;32m    926\u001b[0m         raise ValueError(\"Creating variables on a non-first call to a function\"\n",
            "\u001b[0;32m/usr/local/lib/python3.7/dist-packages/tensorflow/python/eager/function.py\u001b[0m in \u001b[0;36m__call__\u001b[0;34m(self, *args, **kwargs)\u001b[0m\n\u001b[1;32m   3022\u001b[0m        filtered_flat_args) = self._maybe_define_function(args, kwargs)\n\u001b[1;32m   3023\u001b[0m     return graph_function._call_flat(\n\u001b[0;32m-> 3024\u001b[0;31m         filtered_flat_args, captured_inputs=graph_function.captured_inputs)  # pylint: disable=protected-access\n\u001b[0m\u001b[1;32m   3025\u001b[0m \u001b[0;34m\u001b[0m\u001b[0m\n\u001b[1;32m   3026\u001b[0m   \u001b[0;34m@\u001b[0m\u001b[0mproperty\u001b[0m\u001b[0;34m\u001b[0m\u001b[0;34m\u001b[0m\u001b[0m\n",
            "\u001b[0;32m/usr/local/lib/python3.7/dist-packages/tensorflow/python/eager/function.py\u001b[0m in \u001b[0;36m_call_flat\u001b[0;34m(self, args, captured_inputs, cancellation_manager)\u001b[0m\n\u001b[1;32m   1959\u001b[0m       \u001b[0;31m# No tape is watching; skip to running the function.\u001b[0m\u001b[0;34m\u001b[0m\u001b[0;34m\u001b[0m\u001b[0;34m\u001b[0m\u001b[0m\n\u001b[1;32m   1960\u001b[0m       return self._build_call_outputs(self._inference_function.call(\n\u001b[0;32m-> 1961\u001b[0;31m           ctx, args, cancellation_manager=cancellation_manager))\n\u001b[0m\u001b[1;32m   1962\u001b[0m     forward_backward = self._select_forward_and_backward_functions(\n\u001b[1;32m   1963\u001b[0m         \u001b[0margs\u001b[0m\u001b[0;34m,\u001b[0m\u001b[0;34m\u001b[0m\u001b[0;34m\u001b[0m\u001b[0m\n",
            "\u001b[0;32m/usr/local/lib/python3.7/dist-packages/tensorflow/python/eager/function.py\u001b[0m in \u001b[0;36mcall\u001b[0;34m(self, ctx, args, cancellation_manager)\u001b[0m\n\u001b[1;32m    594\u001b[0m               \u001b[0minputs\u001b[0m\u001b[0;34m=\u001b[0m\u001b[0margs\u001b[0m\u001b[0;34m,\u001b[0m\u001b[0;34m\u001b[0m\u001b[0;34m\u001b[0m\u001b[0m\n\u001b[1;32m    595\u001b[0m               \u001b[0mattrs\u001b[0m\u001b[0;34m=\u001b[0m\u001b[0mattrs\u001b[0m\u001b[0;34m,\u001b[0m\u001b[0;34m\u001b[0m\u001b[0;34m\u001b[0m\u001b[0m\n\u001b[0;32m--> 596\u001b[0;31m               ctx=ctx)\n\u001b[0m\u001b[1;32m    597\u001b[0m         \u001b[0;32melse\u001b[0m\u001b[0;34m:\u001b[0m\u001b[0;34m\u001b[0m\u001b[0;34m\u001b[0m\u001b[0m\n\u001b[1;32m    598\u001b[0m           outputs = execute.execute_with_cancellation(\n",
            "\u001b[0;32m/usr/local/lib/python3.7/dist-packages/tensorflow/python/eager/execute.py\u001b[0m in \u001b[0;36mquick_execute\u001b[0;34m(op_name, num_outputs, inputs, attrs, ctx, name)\u001b[0m\n\u001b[1;32m     58\u001b[0m     \u001b[0mctx\u001b[0m\u001b[0;34m.\u001b[0m\u001b[0mensure_initialized\u001b[0m\u001b[0;34m(\u001b[0m\u001b[0;34m)\u001b[0m\u001b[0;34m\u001b[0m\u001b[0;34m\u001b[0m\u001b[0m\n\u001b[1;32m     59\u001b[0m     tensors = pywrap_tfe.TFE_Py_Execute(ctx._handle, device_name, op_name,\n\u001b[0;32m---> 60\u001b[0;31m                                         inputs, attrs, num_outputs)\n\u001b[0m\u001b[1;32m     61\u001b[0m   \u001b[0;32mexcept\u001b[0m \u001b[0mcore\u001b[0m\u001b[0;34m.\u001b[0m\u001b[0m_NotOkStatusException\u001b[0m \u001b[0;32mas\u001b[0m \u001b[0me\u001b[0m\u001b[0;34m:\u001b[0m\u001b[0;34m\u001b[0m\u001b[0;34m\u001b[0m\u001b[0m\n\u001b[1;32m     62\u001b[0m     \u001b[0;32mif\u001b[0m \u001b[0mname\u001b[0m \u001b[0;32mis\u001b[0m \u001b[0;32mnot\u001b[0m \u001b[0;32mNone\u001b[0m\u001b[0;34m:\u001b[0m\u001b[0;34m\u001b[0m\u001b[0;34m\u001b[0m\u001b[0m\n",
            "\u001b[0;31mKeyboardInterrupt\u001b[0m: "
          ]
        }
      ]
    },
    {
      "cell_type": "markdown",
      "metadata": {
        "id": "9a470WtMaKQo"
      },
      "source": [
        "# Conclusión : \n",
        "En cuanto a performance y tiempo, conviene más hacer fine tuning al modelo pre entrenado EfficientNet. Eso lo realizaré en el notebook `BPM_ModelV2.py` "
      ]
    },
    {
      "cell_type": "code",
      "metadata": {
        "id": "maJqTjU_Xne4"
      },
      "source": [
        ""
      ],
      "execution_count": null,
      "outputs": []
    }
  ]
}